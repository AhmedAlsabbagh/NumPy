{
  "nbformat": 4,
  "nbformat_minor": 0,
  "metadata": {
    "kernelspec": {
      "display_name": "Python 3",
      "name": "python3"
    },
    "language_info": {
      "codemirror_mode": {
        "name": "ipython",
        "version": 3
      },
      "file_extension": ".py",
      "mimetype": "text/x-python",
      "name": "python",
      "nbconvert_exporter": "python",
      "pygments_lexer": "ipython3",
      "version": "3.6.0"
    },
    "colab": {
      "provenance": [],
      "gpuType": "T4"
    },
    "accelerator": "TPU"
  },
  "cells": [
    {
      "cell_type": "markdown",
      "metadata": {
        "id": "gfRUbec7W74k"
      },
      "source": [
        "#### Numpy practicals"
      ]
    },
    {
      "cell_type": "code",
      "metadata": {
        "collapsed": true,
        "colab": {
          "base_uri": "https://localhost:8080/",
          "height": 87
        },
        "id": "c-n9AvS2W74u",
        "outputId": "160b7d58-f498-4fc6-e291-a3b6204fc93d"
      },
      "source": [
        "import numpy as np                                                              # Import NumPy module\n",
        "\n",
        "'''\n",
        "Point 1: \n",
        "when you import as below\n",
        "\n",
        "import numpy as np\n",
        "\n",
        "You access functions inside numpy as np.min(). np is the prefix\n",
        "\n",
        "\n",
        "Point 2:\n",
        "You Can also import as below\n",
        "\n",
        "from numpy import *                         \n",
        "\n",
        "You access functions inside numpy as min(). Never import libraries this way as it causes confusion\n",
        "'''"
      ],
      "execution_count": 3,
      "outputs": [
        {
          "output_type": "execute_result",
          "data": {
            "text/plain": [
              "'\\nPoint 1: \\nwhen you import as below\\n\\nimport numpy as np\\n\\nYou access functions inside numpy as np.min(). np is the prefix\\n\\n\\nPoint 2:\\nYou Can also import as below\\n\\nfrom numpy import *                         \\n\\nYou access functions inside numpy as min(). Never import libraries this way as it causes confusion\\n'"
            ],
            "application/vnd.google.colaboratory.intrinsic+json": {
              "type": "string"
            }
          },
          "metadata": {},
          "execution_count": 3
        }
      ]
    },
    {
      "cell_type": "markdown",
      "metadata": {
        "id": "TfktSkW8W74w"
      },
      "source": [
        "#### The Basics\n",
        "\n",
        "#### ndarray : NumPy is an N-dimensional array\n",
        "- It describes the collection of items of the same type from zero index. \n",
        "- Data-type for each object is dtype.\n",
        "\n",
        "- Interface is numpy.array(object, dtype = None, copy = True, order = None, subok = False, ndmin = 0)\n",
        "- Parameters are:\n",
        "\n",
        "        object: Any object exposing the array interface method returns an array or sequence.\n",
        "        dtype: Data type of array (optional) (Example Below for Complex)\n",
        "        copy: copy the contents (Optional) (Default is true)\n",
        "        order: C (row major) or F (column major) or A (any) (default is A)  {Specifies how data is stored in memory. Discussed below}\n",
        "        subok: By default, returned array forced to be a base class array. If true, sub-classes passed through\n",
        "        ndmin: Specifies minimum dimensions of resultant array (Example Below for ndmin = 4)"
      ]
    },
    {
      "cell_type": "markdown",
      "metadata": {
        "id": "NczX3hxUW74x"
      },
      "source": [
        "    Row Major Vs Column Major\n",
        "    ==========================\n",
        "    Sample 3 x 3 Array\n",
        "    | 1  2  3 |\n",
        "    | 4  5  6 |\n",
        "    | 7  8  9 |\n",
        "    \n",
        "    Row Major is stored as below. All Rows together\n",
        "    |   1   |   2   |   3   |   4   |   5   |   6   |   7   |   8   |   9   |\n",
        "        \n",
        "    Column Major is stored as below. All Columns together\n",
        "    |   1   |   4   |   7   |   2   |   5   |   8   |   3   |   6   |   9   |"
      ]
    },
    {
      "cell_type": "code",
      "metadata": {
        "colab": {
          "base_uri": "https://localhost:8080/"
        },
        "id": "OKDp6ELSW74z",
        "outputId": "eaf0cc4d-7cc1-45c3-f8cf-5d518bbf43a3"
      },
      "source": [
        "a = np.array([1,2,3], dtype='int32')\n",
        "print(a)"
      ],
      "execution_count": null,
      "outputs": [
        {
          "output_type": "stream",
          "name": "stdout",
          "text": [
            "[1 2 3]\n"
          ]
        }
      ]
    },
    {
      "cell_type": "code",
      "metadata": {
        "colab": {
          "base_uri": "https://localhost:8080/"
        },
        "id": "DjHAnQZ3L_NB",
        "outputId": "f3d6dd29-ec69-4971-dc4e-b609d2722373"
      },
      "source": [
        "type(a)                                                                         # ndarray is the object type when ever you create numpy array\n",
        "                                                                                # It is also referred as NumPy Array or array"
      ],
      "execution_count": null,
      "outputs": [
        {
          "output_type": "execute_result",
          "data": {
            "text/plain": [
              "numpy.ndarray"
            ]
          },
          "metadata": {},
          "execution_count": 198
        }
      ]
    },
    {
      "cell_type": "code",
      "metadata": {
        "colab": {
          "base_uri": "https://localhost:8080/"
        },
        "id": "szoIuMn-W741",
        "outputId": "8b202e09-0669-491a-8fcc-426287e1ff56"
      },
      "source": [
        "a = np.array([1.1,2.2,3.3], dtype='int32')\n",
        "print(a)"
      ],
      "execution_count": null,
      "outputs": [
        {
          "output_type": "stream",
          "name": "stdout",
          "text": [
            "[1 2 3]\n"
          ]
        }
      ]
    },
    {
      "cell_type": "code",
      "metadata": {
        "colab": {
          "base_uri": "https://localhost:8080/"
        },
        "id": "D5kSSJeEW742",
        "outputId": "d9745e23-9a9e-48bd-8a67-d8fee31efcb3"
      },
      "source": [
        "a = np.array([1.1,2.2,3.3], dtype='float64')\n",
        "print(a)"
      ],
      "execution_count": null,
      "outputs": [
        {
          "output_type": "stream",
          "name": "stdout",
          "text": [
            "[1.1 2.2 3.3]\n"
          ]
        }
      ]
    },
    {
      "cell_type": "code",
      "metadata": {
        "colab": {
          "base_uri": "https://localhost:8080/"
        },
        "id": "0qvyDuvmW743",
        "outputId": "6dba1cb2-b598-4403-8f49-24503315dfa4"
      },
      "source": [
        "b = np.array([[1.1,2.2,3.3],[5.5,6.6,7.7]])\n",
        "print(b)"
      ],
      "execution_count": null,
      "outputs": [
        {
          "output_type": "stream",
          "name": "stdout",
          "text": [
            "[[1.1 2.2 3.3]\n",
            " [5.5 6.6 7.7]]\n"
          ]
        }
      ]
    },
    {
      "cell_type": "code",
      "metadata": {
        "colab": {
          "base_uri": "https://localhost:8080/"
        },
        "id": "cERbRetxW744",
        "outputId": "d7f22141-1ead-46cd-b6eb-c37fefc507c0"
      },
      "source": [
        "c = np.array([1, 2, 3])                                                         # Default ndmin is 1 - Single Dimension\n",
        "print (c)"
      ],
      "execution_count": null,
      "outputs": [
        {
          "output_type": "stream",
          "name": "stdout",
          "text": [
            "[1 2 3]\n"
          ]
        }
      ]
    },
    {
      "cell_type": "code",
      "metadata": {
        "scrolled": true,
        "colab": {
          "base_uri": "https://localhost:8080/"
        },
        "id": "fKKVVOWHW745",
        "outputId": "73858967-b857-4794-af9d-21f93d83b054"
      },
      "source": [
        "c = np.array([1, 2, 3], ndmin = 4)                                              # ndmin is 4 - Four Dimension\n",
        "print (c)"
      ],
      "execution_count": null,
      "outputs": [
        {
          "output_type": "stream",
          "name": "stdout",
          "text": [
            "[[[[1 2 3]]]]\n"
          ]
        }
      ]
    },
    {
      "cell_type": "code",
      "metadata": {
        "colab": {
          "base_uri": "https://localhost:8080/"
        },
        "id": "UXZCSQfLW745",
        "outputId": "d0aa3679-eaf3-4696-9964-692f8ea70817"
      },
      "source": [
        "d = np.array([1, 2, 3], dtype = complex) \n",
        "print (d)"
      ],
      "execution_count": null,
      "outputs": [
        {
          "output_type": "stream",
          "name": "stdout",
          "text": [
            "[1.+0.j 2.+0.j 3.+0.j]\n"
          ]
        }
      ]
    },
    {
      "cell_type": "code",
      "metadata": {
        "colab": {
          "base_uri": "https://localhost:8080/"
        },
        "id": "9mXpQfanW746",
        "outputId": "ad2977ea-988b-428d-b7bf-1c227938d472"
      },
      "source": [
        "student = np.dtype([('name','S20'), ('age', 'int8'), ('marks', 'int32')])       #S - String of 20; int8, int32 - Integer\n",
        "a = np.array([('abc', 21, 50),('xyz', 18, 75)], dtype = student) \n",
        "print (a)"
      ],
      "execution_count": null,
      "outputs": [
        {
          "output_type": "stream",
          "name": "stdout",
          "text": [
            "[(b'abc', 21, 50) (b'xyz', 18, 75)]\n"
          ]
        }
      ]
    },
    {
      "cell_type": "code",
      "metadata": {
        "colab": {
          "base_uri": "https://localhost:8080/"
        },
        "id": "8uwMfpmkW746",
        "outputId": "e8ff6615-f17e-4bc9-bd42-cc2e8a66eb2b"
      },
      "source": [
        "# Get Dimension\n",
        "a = np.array([1.1,2.2,3.3], dtype='float32')\n",
        "b = np.array([[1.1,2.2,3.3],[5.5,6.6,7.7]])\n",
        "\n",
        "print (a.ndim)\n",
        "print (b.ndim)"
      ],
      "execution_count": null,
      "outputs": [
        {
          "output_type": "stream",
          "name": "stdout",
          "text": [
            "1\n",
            "2\n"
          ]
        }
      ]
    },
    {
      "cell_type": "code",
      "metadata": {
        "colab": {
          "base_uri": "https://localhost:8080/"
        },
        "id": "rV_6HeCmW747",
        "outputId": "aed2a283-3d8b-4a6b-b9b0-8a9bb6141a4a"
      },
      "source": [
        "# Get Shape\n",
        "print (a.shape)\n",
        "print (b.shape)"
      ],
      "execution_count": null,
      "outputs": [
        {
          "output_type": "stream",
          "name": "stdout",
          "text": [
            "(3,)\n",
            "(2, 3)\n"
          ]
        }
      ]
    },
    {
      "cell_type": "code",
      "metadata": {
        "colab": {
          "base_uri": "https://localhost:8080/"
        },
        "id": "Nq1UMKxYW747",
        "outputId": "656df77b-85b3-46a1-aa30-699c6c699882"
      },
      "source": [
        "# Get Type\n",
        "print (a.dtype)                                                                 # float 32 was specified\n",
        "print (b.dtype)                                                                 # float64 is default"
      ],
      "execution_count": null,
      "outputs": [
        {
          "output_type": "stream",
          "name": "stdout",
          "text": [
            "float32\n",
            "float64\n"
          ]
        }
      ]
    },
    {
      "cell_type": "code",
      "metadata": {
        "id": "vxnO1wRpnwim",
        "colab": {
          "base_uri": "https://localhost:8080/"
        },
        "outputId": "a4b66984-cafa-4624-e4f6-ced3756401a1"
      },
      "source": [
        "# Get Type\n",
        "print (type(a))                                                                 # float 32 was specified\n",
        "print (type(b))                                                                 # float64 is default"
      ],
      "execution_count": null,
      "outputs": [
        {
          "output_type": "stream",
          "name": "stdout",
          "text": [
            "<class 'numpy.ndarray'>\n",
            "<class 'numpy.ndarray'>\n"
          ]
        }
      ]
    },
    {
      "cell_type": "code",
      "metadata": {
        "id": "i-RbZ8eRW748",
        "colab": {
          "base_uri": "https://localhost:8080/"
        },
        "outputId": "1357d107-b64a-40af-e77a-853743f17fce"
      },
      "source": [
        "# Get Size - Length of 1 array element\n",
        "print (a.itemsize)                                                              # a = np.array([1.1,2.2,3.3], dtype='float32') ==> 32 bit ==> 4 byte\n",
        "print (b.itemsize)                                                              # float64  ==> 64 bits ==> 8 byte"
      ],
      "execution_count": null,
      "outputs": [
        {
          "output_type": "stream",
          "name": "stdout",
          "text": [
            "4\n",
            "8\n"
          ]
        }
      ]
    },
    {
      "cell_type": "code",
      "metadata": {
        "id": "-Fhkz3iFW748",
        "colab": {
          "base_uri": "https://localhost:8080/"
        },
        "outputId": "0a068655-5770-409d-fe7a-74ce35df6668"
      },
      "source": [
        "# Get total size - Total Length of all array elements\n",
        "print (a.nbytes)                                                                # a = np.array([1.1,2.2,3.3], dtype='float32') ==> 32 bit ==> 4 byte. 3 numbers ==> 12 bytes\n",
        "print (b.nbytes)                                                                # 8 byte. 6 numbers ==> 48 bytes"
      ],
      "execution_count": null,
      "outputs": [
        {
          "output_type": "stream",
          "name": "stdout",
          "text": [
            "12\n",
            "48\n"
          ]
        }
      ]
    },
    {
      "cell_type": "code",
      "metadata": {
        "id": "t_V_IBvJW748",
        "colab": {
          "base_uri": "https://localhost:8080/"
        },
        "outputId": "5ff38485-67d6-455f-c9e4-ba48a1a4498c"
      },
      "source": [
        "# Get number of elements\n",
        "print (a.size)                                                                  # a = np.array([1.1,2.2,3.3], dtype='float32') ==> 3 elements present\n",
        "print (b.size)                                                                  # 6 elements present"
      ],
      "execution_count": null,
      "outputs": [
        {
          "output_type": "stream",
          "name": "stdout",
          "text": [
            "3\n",
            "6\n"
          ]
        }
      ]
    },
    {
      "cell_type": "code",
      "metadata": {
        "id": "pbSYfzBoPOji",
        "colab": {
          "base_uri": "https://localhost:8080/"
        },
        "outputId": "871457e3-fd71-4b0a-e163-aca57650e370"
      },
      "source": [
        "a = np.array([\"1\", \"2\", \"3\"] , dtype= np.string_)                               # Array from List containing string. Usually you will use Pandas\n",
        "print (a)\n",
        "print(a.dtype)                                                                  \n",
        "\n",
        "a = a.astype('int32')                                                           # type is changed from string to int32\n",
        "print (a)\n",
        "print(a.dtype)"
      ],
      "execution_count": null,
      "outputs": [
        {
          "output_type": "stream",
          "name": "stdout",
          "text": [
            "[b'1' b'2' b'3']\n",
            "|S1\n",
            "[1 2 3]\n",
            "int32\n"
          ]
        }
      ]
    },
    {
      "cell_type": "code",
      "metadata": {
        "id": "3S17Grs-bEJG",
        "colab": {
          "base_uri": "https://localhost:8080/"
        },
        "outputId": "aafefe32-7873-4f79-8b9d-ed8d2deedec2"
      },
      "source": [
        "# Get Dimension\n",
        "a = np.array([[1,2,3],[4,5,6]])\n",
        "b = a\n",
        "\n",
        "print (a)\n",
        "print (b)\n",
        "\n",
        "a[1,1] = 77\n",
        "\n",
        "print (a)                                                                      \n",
        "print (b)                                                                       # Note: We only changed in a but b also changed, Never write b = a, as it just assigns a view\n",
        "                                                                                # use b = a.copy"
      ],
      "execution_count": null,
      "outputs": [
        {
          "output_type": "stream",
          "name": "stdout",
          "text": [
            "[[1 2 3]\n",
            " [4 5 6]]\n",
            "[[1 2 3]\n",
            " [4 5 6]]\n",
            "[[ 1  2  3]\n",
            " [ 4 77  6]]\n",
            "[[ 1  2  3]\n",
            " [ 4 77  6]]\n"
          ]
        }
      ]
    },
    {
      "cell_type": "code",
      "metadata": {
        "id": "BWvswJhmofXI",
        "colab": {
          "base_uri": "https://localhost:8080/"
        },
        "outputId": "47aea755-6edd-4459-a564-76c0c9f3f245"
      },
      "source": [
        "# Get Dimension\n",
        "a = np.array([[1,2,3],[4,5,6]])\n",
        "b = a.copy()\n",
        "\n",
        "print (a)\n",
        "print (b)\n",
        "\n",
        "a[1,1] = 77\n",
        "\n",
        "print (a)                                                                      \n",
        "print (b)                                                                       # Contents of b is not changed      "
      ],
      "execution_count": null,
      "outputs": [
        {
          "output_type": "stream",
          "name": "stdout",
          "text": [
            "[[1 2 3]\n",
            " [4 5 6]]\n",
            "[[1 2 3]\n",
            " [4 5 6]]\n",
            "[[ 1  2  3]\n",
            " [ 4 77  6]]\n",
            "[[1 2 3]\n",
            " [4 5 6]]\n"
          ]
        }
      ]
    },
    {
      "cell_type": "markdown",
      "metadata": {
        "id": "-NsxxdP4W749"
      },
      "source": [
        "#### numpy.asarray (similar to numpy.array but few parameters)\n",
        "- Interface is numpy.asarray(a, dtype = None, order = None)\n",
        "    - a: Input data in any form such as list, list of tuples, tuples, tuple of tuples or tuple of lists\n",
        "    - dtype: data type (default is datatype of a{input data} )\n",
        "    - order: C (row major) or F (column major) (default is C)\n"
      ]
    },
    {
      "cell_type": "code",
      "metadata": {
        "id": "QRiP-pAmW749",
        "colab": {
          "base_uri": "https://localhost:8080/"
        },
        "outputId": "975a073c-1936-45d8-b4d5-51ffe8001d81"
      },
      "source": [
        "lista = [1,2,3] \n",
        "e = np.asarray(lista) \n",
        "print (e)"
      ],
      "execution_count": null,
      "outputs": [
        {
          "output_type": "stream",
          "name": "stdout",
          "text": [
            "[1 2 3]\n"
          ]
        }
      ]
    },
    {
      "cell_type": "code",
      "metadata": {
        "id": "bc_L7-ErW749",
        "colab": {
          "base_uri": "https://localhost:8080/"
        },
        "outputId": "40ba304e-9679-4b17-cf85-9d47cc7494f2"
      },
      "source": [
        "listtuplea = [(1,2,3),(4,5,6)]                                                    # list of Tuple\n",
        "e = np.asarray(listtuplea) \n",
        "print (e)"
      ],
      "execution_count": null,
      "outputs": [
        {
          "output_type": "stream",
          "name": "stdout",
          "text": [
            "[[1 2 3]\n",
            " [4 5 6]]\n"
          ]
        }
      ]
    },
    {
      "cell_type": "markdown",
      "metadata": {
        "id": "lkSuqzneW74-"
      },
      "source": [
        "#### numpy.fromiter - Builds an ndarray object from any iterable object\n",
        "- Interface is numpy.fromiter(iterable, dtype, count = -1)\n",
        "    - iterable: Iterable object\n",
        "    - dtype: data type (default is datatype of a{input data} )\n",
        "    - count: number of items to be read from iterator (efault is -1: read all data)"
      ]
    },
    {
      "cell_type": "code",
      "metadata": {
        "id": "bPbxfOTmW74-",
        "colab": {
          "base_uri": "https://localhost:8080/"
        },
        "outputId": "f3fadb60-4511-4516-a37c-73780d3f1acc"
      },
      "source": [
        "list = range(5) \n",
        "it = iter(list)  \n",
        "\n",
        "\n",
        "#for x in it:                                                                   # To see contents of iterator. if you run, value will be lost as iterator wont point to start again\n",
        "#    print(x)\n",
        "\n",
        "x = np.fromiter(it, dtype = int,count=-1) \n",
        "print (x)"
      ],
      "execution_count": null,
      "outputs": [
        {
          "output_type": "stream",
          "name": "stdout",
          "text": [
            "[0 1 2 3 4]\n"
          ]
        }
      ]
    },
    {
      "cell_type": "markdown",
      "metadata": {
        "id": "25wp3_48W74-"
      },
      "source": [
        "### Accessing/Changing specific elements, rows, columns, etc"
      ]
    },
    {
      "cell_type": "code",
      "metadata": {
        "id": "XXZ37HKbW74_",
        "colab": {
          "base_uri": "https://localhost:8080/"
        },
        "outputId": "0f1368b5-90d1-4c23-88b6-ee3d06efce09"
      },
      "source": [
        "a = np.array([[1,2,3,4,5,6],[7, 8,9,10,11,12]])                                 # Index for Row and Column starts from 0\n",
        "print(a)"
      ],
      "execution_count": null,
      "outputs": [
        {
          "output_type": "stream",
          "name": "stdout",
          "text": [
            "[[ 1  2  3  4  5  6]\n",
            " [ 7  8  9 10 11 12]]\n"
          ]
        }
      ]
    },
    {
      "cell_type": "code",
      "metadata": {
        "id": "Il3-Ns9NW74_",
        "colab": {
          "base_uri": "https://localhost:8080/"
        },
        "outputId": "40f6524c-4a1a-446d-9901-cce91aafb2f7"
      },
      "source": [
        "a[1, 5]                                                                         # Get Specific Element - 1st Row/1st index, 5th Column/5th index"
      ],
      "execution_count": null,
      "outputs": [
        {
          "output_type": "execute_result",
          "data": {
            "text/plain": [
              "12"
            ]
          },
          "metadata": {},
          "execution_count": 47
        }
      ]
    },
    {
      "cell_type": "code",
      "metadata": {
        "id": "FYfeeURNW74_",
        "colab": {
          "base_uri": "https://localhost:8080/"
        },
        "outputId": "126673c1-58a2-4732-cc3e-41cb4132550a"
      },
      "source": [
        "a[0, :]                                                                         # Get all Columns - 0th Row, All Columns"
      ],
      "execution_count": null,
      "outputs": [
        {
          "output_type": "execute_result",
          "data": {
            "text/plain": [
              "array([1, 2, 3, 4, 5, 6])"
            ]
          },
          "metadata": {},
          "execution_count": 48
        }
      ]
    },
    {
      "cell_type": "code",
      "metadata": {
        "id": "xhwBmDlkW75A",
        "colab": {
          "base_uri": "https://localhost:8080/"
        },
        "outputId": "56a9b52d-0faf-4adf-a52d-1055d4c7a5a8"
      },
      "source": [
        "a[:, 2]                                                                         # Get all Rows - All Rows, 2nd Column"
      ],
      "execution_count": null,
      "outputs": [
        {
          "output_type": "execute_result",
          "data": {
            "text/plain": [
              "array([3, 9])"
            ]
          },
          "metadata": {},
          "execution_count": 49
        }
      ]
    },
    {
      "cell_type": "code",
      "metadata": {
        "id": "FQyBwUOJW75A",
        "colab": {
          "base_uri": "https://localhost:8080/"
        },
        "outputId": "daad398e-a6e2-4ac8-db62-7c21fdead101"
      },
      "source": [
        "# Get element between start and end index [startindex:endindex:stepsize]\n",
        "a[0, 1:-1:1]                                                                    # Row = 0th ; Column = Index 1 untill -1 ; Step = 1."
      ],
      "execution_count": null,
      "outputs": [
        {
          "output_type": "execute_result",
          "data": {
            "text/plain": [
              "array([2, 3, 4, 5])"
            ]
          },
          "metadata": {},
          "execution_count": 50
        }
      ]
    },
    {
      "cell_type": "code",
      "metadata": {
        "id": "luHiR00XW75A",
        "colab": {
          "base_uri": "https://localhost:8080/"
        },
        "outputId": "e557507c-6f84-43fe-9cdb-cb5f11e30dc6"
      },
      "source": [
        "print ('Before')\n",
        "print (a)\n",
        "a[1,5] = 20                                                                     # Change [1,5] from 12 to 20\n",
        "print ('After')\n",
        "print(a)\n",
        "\n"
      ],
      "execution_count": null,
      "outputs": [
        {
          "output_type": "stream",
          "name": "stdout",
          "text": [
            "Before\n",
            "[[ 1  2  3  4  5  6]\n",
            " [ 7  8  9 10 11 20]]\n",
            "After\n",
            "[[ 1  2  3  4  5  6]\n",
            " [ 7  8  9 10 11 20]]\n"
          ]
        }
      ]
    },
    {
      "cell_type": "code",
      "metadata": {
        "id": "A698WIDWW75B",
        "colab": {
          "base_uri": "https://localhost:8080/"
        },
        "outputId": "0b92cd2d-a2cc-4b29-fd6a-af49b76039ef"
      },
      "source": [
        "print ('Before')\n",
        "print (a)\n",
        "a[:,2] = [1,2]                                                                  # Rows = All, Column = 2. changed form 3,9 to 1,2\n",
        "print ('After')\n",
        "print(a)"
      ],
      "execution_count": null,
      "outputs": [
        {
          "output_type": "stream",
          "name": "stdout",
          "text": [
            "Before\n",
            "[[ 1  2  3  4  5  6]\n",
            " [ 7  8  9 10 11 20]]\n",
            "After\n",
            "[[ 1  2  1  4  5  6]\n",
            " [ 7  8  2 10 11 20]]\n"
          ]
        }
      ]
    },
    {
      "cell_type": "code",
      "metadata": {
        "id": "USLNhOsvW75C",
        "colab": {
          "base_uri": "https://localhost:8080/"
        },
        "outputId": "df1c487b-008e-4591-ef16-84d2b050a02d"
      },
      "source": [
        "b = np.array([\n",
        "                [\n",
        "                    [1,2],\n",
        "                    [3,4]\n",
        "                ],\n",
        "                [\n",
        "                    [5,6],\n",
        "                    [7,8]\n",
        "                ]\n",
        "            ]) # 3 dimentional array\n",
        "print(b)"
      ],
      "execution_count": null,
      "outputs": [
        {
          "output_type": "stream",
          "name": "stdout",
          "text": [
            "[[[1 2]\n",
            "  [3 4]]\n",
            "\n",
            " [[5 6]\n",
            "  [7 8]]]\n"
          ]
        }
      ]
    },
    {
      "cell_type": "code",
      "metadata": {
        "id": "AE1MsFgXW75C",
        "colab": {
          "base_uri": "https://localhost:8080/"
        },
        "outputId": "8d103044-fc5f-4087-bc84-cbb338e69d7f"
      },
      "source": [
        "b[0,0,1]                                                                        # Get a particular element in the array"
      ],
      "execution_count": null,
      "outputs": [
        {
          "output_type": "execute_result",
          "data": {
            "text/plain": [
              "2"
            ]
          },
          "metadata": {},
          "execution_count": 56
        }
      ]
    },
    {
      "cell_type": "code",
      "metadata": {
        "id": "0Z9rIqmmpicl",
        "colab": {
          "base_uri": "https://localhost:8080/"
        },
        "outputId": "24680449-7902-4954-979f-2528f1af3420"
      },
      "source": [
        "b[0][0][1]                                                                      # Get a particular element in the array"
      ],
      "execution_count": null,
      "outputs": [
        {
          "output_type": "execute_result",
          "data": {
            "text/plain": [
              "2"
            ]
          },
          "metadata": {},
          "execution_count": 239
        }
      ]
    },
    {
      "cell_type": "code",
      "metadata": {
        "id": "BTF0rMMnW75C",
        "colab": {
          "base_uri": "https://localhost:8080/"
        },
        "outputId": "8ecb7751-4234-48f8-b2d3-efd1c796a6ed"
      },
      "source": [
        "print ('Before')\n",
        "print (b)\n",
        "b[:,:,1] = [[8,8],[9,9]]                                                        # Replace index 1 in the second level with 8,8 and 9,9\n",
        "print ('After')\n",
        "print (b)"
      ],
      "execution_count": null,
      "outputs": [
        {
          "output_type": "stream",
          "name": "stdout",
          "text": [
            "Before\n",
            "[[[1 2]\n",
            "  [8 8]]\n",
            "\n",
            " [[5 6]\n",
            "  [9 9]]]\n",
            "After\n",
            "[[[1 8]\n",
            "  [8 8]]\n",
            "\n",
            " [[5 9]\n",
            "  [9 9]]]\n"
          ]
        }
      ]
    },
    {
      "cell_type": "code",
      "metadata": {
        "id": "MJGdN1TCPGQo",
        "colab": {
          "base_uri": "https://localhost:8080/"
        },
        "outputId": "a2e233d2-1efe-49ee-b5f0-7ef983105499"
      },
      "source": [
        "# Fancy Indexing\n",
        "# It refers to index defined as list of numbers.\n",
        "\n",
        "a = np.array([[0,1,2,3],[4,5,6,7],[8,9,10,11],[12,13,14,15],[16,17,18,19]])\n",
        "print(a[[1,3,2],[0,3,1]])                                                       # Prints (1,0)th element, (3,3)th element and (2,1)th element\n",
        "\n",
        "a = np.array([[0,1,2,3],[4,5,6,7],[8,9,10,11],[12,13,14,15],[16,17,18,19]])\n",
        "print(a[[1,3,2]][:, [0,3,1]])                                                   # Prints 1st row, in it 0,3 and 1 column, followed by 3rd row and 2nd row\n"
      ],
      "execution_count": null,
      "outputs": [
        {
          "output_type": "stream",
          "name": "stdout",
          "text": [
            "[ 4 15  9]\n",
            "[[ 4  7  5]\n",
            " [12 15 13]\n",
            " [ 8 11  9]]\n"
          ]
        }
      ]
    },
    {
      "cell_type": "code",
      "metadata": {
        "colab": {
          "base_uri": "https://localhost:8080/"
        },
        "id": "hKJDwkv9yZsR",
        "outputId": "bf2ef834-fb60-48de-faf3-7aad9af7e626"
      },
      "source": [
        "a = np.array([[0,1,2,3],[4,5,6,7],[8,9,10,11],[12,13,14,15],[16,17,18,19]])\n",
        "print(a)\n",
        "print(\"====================\")\n",
        "\n",
        "zz1 = a[[1,3,2]]                                                                # Can also be given as zz1 = a[[1,3,2], :]\n",
        "print(zz1)\n",
        "print(\"====================\")\n",
        "\n",
        "zz2 = zz1[:, [0,3,1]]\n",
        "print(zz2)"
      ],
      "execution_count": null,
      "outputs": [
        {
          "output_type": "stream",
          "name": "stdout",
          "text": [
            "[[ 0  1  2  3]\n",
            " [ 4  5  6  7]\n",
            " [ 8  9 10 11]\n",
            " [12 13 14 15]\n",
            " [16 17 18 19]]\n",
            "====================\n",
            "[[ 4  5  6  7]\n",
            " [12 13 14 15]\n",
            " [ 8  9 10 11]]\n",
            "====================\n",
            "[[ 4  7  5]\n",
            " [12 15 13]\n",
            " [ 8 11  9]]\n"
          ]
        }
      ]
    },
    {
      "cell_type": "code",
      "metadata": {
        "id": "axAn2fjpTBa0",
        "colab": {
          "base_uri": "https://localhost:8080/"
        },
        "outputId": "0f68f8dd-82f3-47a8-ae33-8ceeed74972f"
      },
      "source": [
        "a = np.array([[0,1,2,3],[4,5,6,7],[8,9,10,11],[12,13,14,15],[16,17,18,19]])\n",
        "print(a)\n",
        "\n",
        "print(\"\\nPrint Transpose\")                                                      # rows become cl=olumn, column becomes rows \n",
        "print(a.T)\n",
        "\n",
        "print(\"\\nPrint a x a.Transpose\")\n",
        "print(np.dot(a,a.T))\n",
        "\n",
        "\n",
        "print(\"\\nPrint Transpose using swapaxes - 0,1 and 1,0 will give same result for 2D array. 0,0 and 1,1 will result in no change\")\n",
        "print(a.swapaxes(0,1))                                                          # 0,1 or 1,0 will have same effect as Transpose\n",
        "print(a.swapaxes(0,0))                                                          # 0,0 or 1,1 will have no effect\n",
        "\n"
      ],
      "execution_count": null,
      "outputs": [
        {
          "output_type": "stream",
          "name": "stdout",
          "text": [
            "[[ 0  1  2  3]\n",
            " [ 4  5  6  7]\n",
            " [ 8  9 10 11]\n",
            " [12 13 14 15]\n",
            " [16 17 18 19]]\n",
            "\n",
            "Print Transpose\n",
            "[[ 0  4  8 12 16]\n",
            " [ 1  5  9 13 17]\n",
            " [ 2  6 10 14 18]\n",
            " [ 3  7 11 15 19]]\n",
            "\n",
            "Print a x a.Transpose\n",
            "[[  14   38   62   86  110]\n",
            " [  38  126  214  302  390]\n",
            " [  62  214  366  518  670]\n",
            " [  86  302  518  734  950]\n",
            " [ 110  390  670  950 1230]]\n",
            "\n",
            "Print Transpose using swapaxes - 0,1 and 1,0 will give same result for 2D array. 0,0 and 1,1 will result in no change\n",
            "[[ 0  4  8 12 16]\n",
            " [ 1  5  9 13 17]\n",
            " [ 2  6 10 14 18]\n",
            " [ 3  7 11 15 19]]\n",
            "[[ 0  1  2  3]\n",
            " [ 4  5  6  7]\n",
            " [ 8  9 10 11]\n",
            " [12 13 14 15]\n",
            " [16 17 18 19]]\n"
          ]
        }
      ]
    },
    {
      "cell_type": "code",
      "metadata": {
        "colab": {
          "base_uri": "https://localhost:8080/"
        },
        "id": "lKF_4Tc11WhL",
        "outputId": "9ce98d2d-b1d6-4254-dcdd-d46909b96ba5"
      },
      "source": [
        "a = np.array([[[0,1,2,3],[4,5,6,7]],[[8,9,10,11],[12,13,14,15]],[[16,17,18,19],[20,21,22,23]]])\n",
        "print(a)"
      ],
      "execution_count": null,
      "outputs": [
        {
          "output_type": "stream",
          "name": "stdout",
          "text": [
            "[[[ 0  1  2  3]\n",
            "  [ 4  5  6  7]]\n",
            "\n",
            " [[ 8  9 10 11]\n",
            "  [12 13 14 15]]\n",
            "\n",
            " [[16 17 18 19]\n",
            "  [20 21 22 23]]]\n"
          ]
        }
      ]
    },
    {
      "cell_type": "code",
      "metadata": {
        "colab": {
          "base_uri": "https://localhost:8080/"
        },
        "id": "uVpNmMWK2EQ2",
        "outputId": "23d34915-ab4c-40cd-b78c-323e6484e568"
      },
      "source": [
        "print (a.shape)"
      ],
      "execution_count": null,
      "outputs": [
        {
          "output_type": "stream",
          "name": "stdout",
          "text": [
            "(3, 2, 4)\n"
          ]
        }
      ]
    },
    {
      "cell_type": "markdown",
      "metadata": {
        "id": "VTPIfSGsW75D"
      },
      "source": [
        "#### Initializing Different Types of Arrays\n",
        "- Interface example is numpy.zeros(shape, dtype = float, order = 'C')\n",
        "    - Shape - Shape of array \n",
        "    - dtype - Desired output data type\n",
        "    - Order - 'C' for C-style row-major array, 'F' for FORTRAN style column-major array (C is default)\n",
        "    "
      ]
    },
    {
      "cell_type": "code",
      "metadata": {
        "id": "v96mIlWlW75D",
        "colab": {
          "base_uri": "https://localhost:8080/"
        },
        "outputId": "84256dbf-717d-4b37-8863-a39964542bab"
      },
      "source": [
        "np.zeros((2,3))                                                                 # All 0's Array of 2 x 3, Default type is float 64"
      ],
      "execution_count": null,
      "outputs": [
        {
          "output_type": "execute_result",
          "data": {
            "text/plain": [
              "array([[0., 0., 0.],\n",
              "       [0., 0., 0.]])"
            ]
          },
          "metadata": {},
          "execution_count": 68
        }
      ]
    },
    {
      "cell_type": "code",
      "metadata": {
        "id": "NbTFMSxaNKBt",
        "colab": {
          "base_uri": "https://localhost:8080/"
        },
        "outputId": "da8d7379-cda5-40e4-f89a-bfab7dceaa44"
      },
      "source": [
        "np.empty((2,3))                                                                 # Most of times it will create 0 but can have some small value as noise, Default type is float 64"
      ],
      "execution_count": null,
      "outputs": [
        {
          "output_type": "execute_result",
          "data": {
            "text/plain": [
              "array([[0., 0., 0.],\n",
              "       [0., 0., 0.]])"
            ]
          },
          "metadata": {},
          "execution_count": 70
        }
      ]
    },
    {
      "cell_type": "code",
      "metadata": {
        "id": "PUIVre5qW75D",
        "colab": {
          "base_uri": "https://localhost:8080/"
        },
        "outputId": "625c4785-1d73-4f90-d975-11fdae5d040b"
      },
      "source": [
        "np.ones((3,2,2), dtype='int32')                                                 # All 1's Array of 3 x 2 x 2."
      ],
      "execution_count": null,
      "outputs": [
        {
          "output_type": "execute_result",
          "data": {
            "text/plain": [
              "array([[[1, 1],\n",
              "        [1, 1]],\n",
              "\n",
              "       [[1, 1],\n",
              "        [1, 1]],\n",
              "\n",
              "       [[1, 1],\n",
              "        [1, 1]]], dtype=int32)"
            ]
          },
          "metadata": {},
          "execution_count": 71
        }
      ]
    },
    {
      "cell_type": "code",
      "metadata": {
        "id": "z2QycPEwW75E",
        "colab": {
          "base_uri": "https://localhost:8080/"
        },
        "outputId": "f347a8b6-9f37-4f27-d0c4-6a647001caaa"
      },
      "source": [
        "np.full((2,2), 7)                                                               # All 7 Array of 2 x 2"
      ],
      "execution_count": null,
      "outputs": [
        {
          "output_type": "execute_result",
          "data": {
            "text/plain": [
              "array([[7, 7],\n",
              "       [7, 7]])"
            ]
          },
          "metadata": {},
          "execution_count": 73
        }
      ]
    },
    {
      "cell_type": "code",
      "metadata": {
        "id": "gyNP10rCW75E",
        "colab": {
          "base_uri": "https://localhost:8080/"
        },
        "outputId": "b3fd89c6-5a0a-4b43-ba38-d81679e7d4d2"
      },
      "source": [
        "a = np.array([[1,2,3,4],[5,6,7,8]])\n",
        "print ('Before')\n",
        "print (a)\n",
        "c = np.full_like(a, 4)                                                          # Array with same dimensions as a with value '4'\n",
        "print ('After')\n",
        "print (c)"
      ],
      "execution_count": null,
      "outputs": [
        {
          "output_type": "stream",
          "name": "stdout",
          "text": [
            "Before\n",
            "[[1 2 3 4]\n",
            " [5 6 7 8]]\n",
            "After\n",
            "[[4 4 4 4]\n",
            " [4 4 4 4]]\n"
          ]
        }
      ]
    },
    {
      "cell_type": "markdown",
      "metadata": {
        "id": "mN5xq6wEI_In"
      },
      "source": [
        "- np.random.rand is for Uniform distribution (in the half-open interval [0.0, 1.0))\n",
        "- np.random.randn is for Standard Normal (aka. Gaussian) distribution (mean 0 and variance 1)"
      ]
    },
    {
      "cell_type": "code",
      "metadata": {
        "id": "UTRytO1FW75E",
        "colab": {
          "base_uri": "https://localhost:8080/"
        },
        "outputId": "f3da931e-db00-4156-bc13-9053be8287cf"
      },
      "source": [
        "np.random.rand(4,2)                                                             # Random number for Array dimension 4 x 2. Default type is float 64"
      ],
      "execution_count": null,
      "outputs": [
        {
          "output_type": "execute_result",
          "data": {
            "text/plain": [
              "array([[0.19202647, 0.10002682],\n",
              "       [0.43818814, 0.26913949],\n",
              "       [0.39544128, 0.07389813],\n",
              "       [0.33280382, 0.60000353]])"
            ]
          },
          "metadata": {},
          "execution_count": 75
        }
      ]
    },
    {
      "cell_type": "code",
      "metadata": {
        "id": "51hRGNZZIiXx",
        "colab": {
          "base_uri": "https://localhost:8080/"
        },
        "outputId": "7241b258-697d-45ca-98e7-b61d33d4b2a6"
      },
      "source": [
        "np.random.randn(4,2)                                                            # Random number for Array dimension 4 x 2. Default type is float 64"
      ],
      "execution_count": null,
      "outputs": [
        {
          "output_type": "execute_result",
          "data": {
            "text/plain": [
              "array([[-1.86623823, -0.46184308],\n",
              "       [-0.89790065, -0.4927125 ],\n",
              "       [ 0.56975296, -0.72644679],\n",
              "       [-1.08627901,  0.56469905]])"
            ]
          },
          "metadata": {},
          "execution_count": 76
        }
      ]
    },
    {
      "cell_type": "code",
      "metadata": {
        "id": "hUSIh-A0W75E",
        "colab": {
          "base_uri": "https://localhost:8080/"
        },
        "outputId": "c2d44ad4-7d60-407a-d084-ec0e2fca2515"
      },
      "source": [
        "np.random.randint(-4,8, size=(3,3))                                             # Random integer numbers for Array dimension 3 x 3 between -4 and 8"
      ],
      "execution_count": null,
      "outputs": [
        {
          "output_type": "execute_result",
          "data": {
            "text/plain": [
              "array([[ 0,  5,  4],\n",
              "       [-2,  3,  3],\n",
              "       [-4, -3, -4]])"
            ]
          },
          "metadata": {},
          "execution_count": 287
        }
      ]
    },
    {
      "cell_type": "code",
      "metadata": {
        "id": "UFhfkR8SW75F",
        "colab": {
          "base_uri": "https://localhost:8080/"
        },
        "outputId": "d01091d0-f09a-4ddc-81ce-49a0830d6998"
      },
      "source": [
        "np.identity(5)                                                                  # Identity Array dimension 5 x 5. Default type is float 64"
      ],
      "execution_count": null,
      "outputs": [
        {
          "output_type": "execute_result",
          "data": {
            "text/plain": [
              "array([[1., 0., 0., 0., 0.],\n",
              "       [0., 1., 0., 0., 0.],\n",
              "       [0., 0., 1., 0., 0.],\n",
              "       [0., 0., 0., 1., 0.],\n",
              "       [0., 0., 0., 0., 1.]])"
            ]
          },
          "metadata": {},
          "execution_count": 77
        }
      ]
    },
    {
      "cell_type": "code",
      "metadata": {
        "id": "6Q_FnWJmW75F",
        "colab": {
          "base_uri": "https://localhost:8080/"
        },
        "outputId": "56398b20-ee81-469a-cf58-b7aeb4eb5a98"
      },
      "source": [
        "c = np.array([[1,2,3]])\n",
        "print ('Before')\n",
        "print(c)\n",
        "\n",
        "c = np.repeat(c,3, axis=0)                                                      # Repeat arr (1,2,3) three times on axis 0 - Axis 0 means rows\n",
        "print ('After')\n",
        "print(c)"
      ],
      "execution_count": null,
      "outputs": [
        {
          "output_type": "stream",
          "name": "stdout",
          "text": [
            "Before\n",
            "[[1 2 3]]\n",
            "After\n",
            "[[1 2 3]\n",
            " [1 2 3]\n",
            " [1 2 3]]\n"
          ]
        }
      ]
    },
    {
      "cell_type": "code",
      "metadata": {
        "id": "krIKPE5oW75F",
        "colab": {
          "base_uri": "https://localhost:8080/"
        },
        "outputId": "dc1995d6-a739-4f85-aea1-9846758a3f41"
      },
      "source": [
        "c = np.array([[1,2,3]])\n",
        "print ('Before')\n",
        "print(c)\n",
        "\n",
        "c = np.repeat(c,3, axis=1)                                                      # Repeat arr (1,2,3) three times on axis 1 - Axis 1 means column\n",
        "print ('After')\n",
        "print(c)"
      ],
      "execution_count": null,
      "outputs": [
        {
          "output_type": "stream",
          "name": "stdout",
          "text": [
            "Before\n",
            "[[1 2 3]]\n",
            "After\n",
            "[[1 1 1 2 2 2 3 3 3]]\n"
          ]
        }
      ]
    },
    {
      "cell_type": "code",
      "metadata": {
        "id": "9RIKq_ymW75G",
        "colab": {
          "base_uri": "https://localhost:8080/"
        },
        "outputId": "edef92b1-8ea5-4249-9796-fe66bf372581"
      },
      "source": [
        "# Step 1\n",
        "o = np.ones((5,5))\n",
        "print ('All 1s Array of 5 x 5')                                                 # All 1 Array of type 5 x 5\n",
        "print(o)\n",
        "\n",
        "# Step 2\n",
        "z = np.zeros((3,3))\n",
        "print ('\\nAll 0s Array of 3 x 3')                                               # All 0 Array of type 0 x 0\n",
        "print (z)\n",
        "\n",
        "# Step 3\n",
        "z[1,1] = 7                                                                      # Change middle element of z Array to 7\n",
        "print ('\\nChanged middle element to 7')\n",
        "print (z)\n",
        "\n",
        "# Step 4: Insert Array z (step 2 + 3) into Array o (step 1)\n",
        "o[1:-1,1:-1] = z\n",
        "print(o)"
      ],
      "execution_count": null,
      "outputs": [
        {
          "output_type": "stream",
          "name": "stdout",
          "text": [
            "All 1s Array of 5 x 5\n",
            "[[1. 1. 1. 1. 1.]\n",
            " [1. 1. 1. 1. 1.]\n",
            " [1. 1. 1. 1. 1.]\n",
            " [1. 1. 1. 1. 1.]\n",
            " [1. 1. 1. 1. 1.]]\n",
            "\n",
            "All 0s Array of 3 x 3\n",
            "[[0. 0. 0.]\n",
            " [0. 0. 0.]\n",
            " [0. 0. 0.]]\n",
            "\n",
            "Changed middle element to 7\n",
            "[[0. 0. 0.]\n",
            " [0. 7. 0.]\n",
            " [0. 0. 0.]]\n",
            "[[1. 1. 1. 1. 1.]\n",
            " [1. 0. 0. 0. 1.]\n",
            " [1. 0. 7. 0. 1.]\n",
            " [1. 0. 0. 0. 1.]\n",
            " [1. 1. 1. 1. 1.]]\n"
          ]
        }
      ]
    },
    {
      "cell_type": "markdown",
      "metadata": {
        "id": "RJhWkE72W75H"
      },
      "source": [
        "### Mathematical Operations"
      ]
    },
    {
      "cell_type": "code",
      "metadata": {
        "id": "IEiQhfSjW75H",
        "colab": {
          "base_uri": "https://localhost:8080/"
        },
        "outputId": "8f082557-b3fb-4edc-9937-2ee054b2f8cb"
      },
      "source": [
        "a = np.array([1,2,3,4])\n",
        "print(a)"
      ],
      "execution_count": null,
      "outputs": [
        {
          "output_type": "stream",
          "name": "stdout",
          "text": [
            "[1 2 3 4]\n"
          ]
        }
      ]
    },
    {
      "cell_type": "code",
      "metadata": {
        "id": "6d8r4d-TW75H",
        "colab": {
          "base_uri": "https://localhost:8080/"
        },
        "outputId": "43a3919c-708d-4952-9a68-f62f4fffa6e6"
      },
      "source": [
        "a + 1                                                                           # Add 1 to all elements in array\n",
        "\n",
        "# In the above example you added 1 to each element without having to loop. This is also referred as Vectorization in NumPy world"
      ],
      "execution_count": null,
      "outputs": [
        {
          "output_type": "execute_result",
          "data": {
            "text/plain": [
              "array([2, 3, 4, 5])"
            ]
          },
          "metadata": {},
          "execution_count": 85
        }
      ]
    },
    {
      "cell_type": "markdown",
      "metadata": {
        "id": "6d0qoir3XzOz"
      },
      "source": []
    },
    {
      "cell_type": "code",
      "metadata": {
        "id": "CmSXpTDxW75H",
        "colab": {
          "base_uri": "https://localhost:8080/"
        },
        "outputId": "d4f17241-8ec3-4a57-eb6a-ad2555603d3e"
      },
      "source": [
        "a - 1                                                                           # Subtract 1 from all elements in array"
      ],
      "execution_count": null,
      "outputs": [
        {
          "output_type": "execute_result",
          "data": {
            "text/plain": [
              "array([0, 1, 2, 3])"
            ]
          },
          "metadata": {},
          "execution_count": 86
        }
      ]
    },
    {
      "cell_type": "code",
      "metadata": {
        "id": "QML0DPYGW75I",
        "colab": {
          "base_uri": "https://localhost:8080/"
        },
        "outputId": "adff7972-f487-4f28-82b0-ba3a8b53da20"
      },
      "source": [
        "a * 2                                                                           # Multiply 2 to all elements in array"
      ],
      "execution_count": null,
      "outputs": [
        {
          "output_type": "execute_result",
          "data": {
            "text/plain": [
              "array([2, 4, 6, 8])"
            ]
          },
          "metadata": {},
          "execution_count": 87
        }
      ]
    },
    {
      "cell_type": "code",
      "metadata": {
        "id": "XcAKBHmgW75I",
        "colab": {
          "base_uri": "https://localhost:8080/"
        },
        "outputId": "754d2b92-674b-4210-af59-463c3c9da54e"
      },
      "source": [
        "a / 2                                                                           # Divide by 2 to all elements in array"
      ],
      "execution_count": null,
      "outputs": [
        {
          "output_type": "execute_result",
          "data": {
            "text/plain": [
              "array([0.5, 1. , 1.5, 2. ])"
            ]
          },
          "metadata": {},
          "execution_count": 88
        }
      ]
    },
    {
      "cell_type": "code",
      "metadata": {
        "id": "rGvEGAAvW75I",
        "colab": {
          "base_uri": "https://localhost:8080/"
        },
        "outputId": "4f189f8c-65b5-4e2e-8c9e-df89cefe0e3e"
      },
      "source": [
        "b = np.array([7,7,7,0])                                                         # New array 7,7,7,0\n",
        "a + b                                                                           # Add a=[1 2 3 4] and b=[7,7,7,0]"
      ],
      "execution_count": null,
      "outputs": [
        {
          "output_type": "execute_result",
          "data": {
            "text/plain": [
              "array([ 8,  9, 10,  4])"
            ]
          },
          "metadata": {},
          "execution_count": 89
        }
      ]
    },
    {
      "cell_type": "code",
      "metadata": {
        "id": "sb7fSZsnW75J",
        "colab": {
          "base_uri": "https://localhost:8080/"
        },
        "outputId": "c28d7f88-0f5d-43fc-9c04-f290483f4abf"
      },
      "source": [
        "a ** 2                                                                          # Raise to 2 for entire array a=[1 2 3 4]"
      ],
      "execution_count": null,
      "outputs": [
        {
          "output_type": "execute_result",
          "data": {
            "text/plain": [
              "array([ 1,  4,  9, 16])"
            ]
          },
          "metadata": {},
          "execution_count": 90
        }
      ]
    },
    {
      "cell_type": "code",
      "metadata": {
        "id": "dkvVpq0SW75J",
        "colab": {
          "base_uri": "https://localhost:8080/"
        },
        "outputId": "cee9d9f1-9949-481e-8edd-2944c4a9dedf"
      },
      "source": [
        "# Feel free to read https://calcworkshop.com/radian-measure/degrees-to-radians/\n",
        "\n",
        "print(a)\n",
        "print(np.rad2deg(a))\n",
        "\n",
        "print (np.sin(a))                                                               # Trignometry functions. Sin for different values\n",
        "\n",
        "print (np.cos(a))\n",
        "\n",
        "print (np.tan(a))"
      ],
      "execution_count": null,
      "outputs": [
        {
          "output_type": "stream",
          "name": "stdout",
          "text": [
            "[1 2 3 4]\n",
            "[ 57.29577951 114.59155903 171.88733854 229.18311805]\n",
            "[ 0.84147098  0.90929743  0.14112001 -0.7568025 ]\n",
            "[ 0.54030231 -0.41614684 -0.9899925  -0.65364362]\n",
            "[ 1.55740772 -2.18503986 -0.14254654  1.15782128]\n"
          ]
        }
      ]
    },
    {
      "cell_type": "code",
      "metadata": {
        "id": "31gAnui30HLV",
        "colab": {
          "base_uri": "https://localhost:8080/"
        },
        "outputId": "996885eb-df98-42f6-fdce-deea3797b09f"
      },
      "source": [
        "a_deg = np.array([0,30,45,60,90])                                               # sin values for 0,30,45,60,90 degree\n",
        "print (np.sin(np.deg2rad(a_deg)))"
      ],
      "execution_count": null,
      "outputs": [
        {
          "output_type": "stream",
          "name": "stdout",
          "text": [
            "[0.         0.5        0.70710678 0.8660254  1.        ]\n"
          ]
        }
      ]
    },
    {
      "cell_type": "code",
      "metadata": {
        "id": "uizOZ-5RW75J",
        "colab": {
          "base_uri": "https://localhost:8080/"
        },
        "outputId": "42020fe0-d41f-4282-9e7b-ebf3d9ed0758"
      },
      "source": [
        "a = np.ones((2,3))                                                              # All 1s Array of dimension 2 x 3\n",
        "print(a)\n",
        "\n",
        "b = np.full((3,2), 2)                                                           # All 2s Array of dimension 3 x 2\n",
        "print(b)\n",
        "\n",
        "np.matmul(a,b)                                                                  # Multiply the 2 Array (Note no. of column in 1st Array = 3 and no. of rows in 2nd Array = 3 should be equal)"
      ],
      "execution_count": null,
      "outputs": [
        {
          "output_type": "stream",
          "name": "stdout",
          "text": [
            "[[1. 1. 1.]\n",
            " [1. 1. 1.]]\n",
            "[[2 2]\n",
            " [2 2]\n",
            " [2 2]]\n"
          ]
        },
        {
          "output_type": "execute_result",
          "data": {
            "text/plain": [
              "array([[6., 6.],\n",
              "       [6., 6.]])"
            ]
          },
          "metadata": {},
          "execution_count": 101
        }
      ]
    },
    {
      "cell_type": "code",
      "metadata": {
        "id": "EpQrQ0QMW75K",
        "colab": {
          "base_uri": "https://localhost:8080/"
        },
        "outputId": "3ae62640-4495-40dc-fd9e-dc98d74d9ea9"
      },
      "source": [
        "c = np.array([[1,2], [3,4]])                                                    # New 2x2 Array \n",
        "np.linalg.det(c)                                                                # Find Determinant"
      ],
      "execution_count": null,
      "outputs": [
        {
          "output_type": "execute_result",
          "data": {
            "text/plain": [
              "-2.0000000000000004"
            ]
          },
          "metadata": {},
          "execution_count": 102
        }
      ]
    },
    {
      "cell_type": "code",
      "metadata": {
        "id": "gxYlrRiEW75K",
        "colab": {
          "base_uri": "https://localhost:8080/"
        },
        "outputId": "3e7d0da1-d66f-4dc7-be17-a77031bd0adf"
      },
      "source": [
        "distance = [45,50,35]\n",
        "speed = [5,10,7]\n",
        "\n",
        "dist = np.array(distance)\n",
        "spd = np.array(speed)\n",
        "\n",
        "print (dist)\n",
        "print (spd)\n",
        "print ('---Divide---')\n",
        "time= dist/spd\n",
        "print (time)"
      ],
      "execution_count": null,
      "outputs": [
        {
          "output_type": "stream",
          "name": "stdout",
          "text": [
            "[45 50 35]\n",
            "[ 5 10  7]\n",
            "---Divide---\n",
            "[9. 5. 5.]\n"
          ]
        }
      ]
    },
    {
      "cell_type": "code",
      "metadata": {
        "id": "oy-G3_y9YY0p",
        "colab": {
          "base_uri": "https://localhost:8080/"
        },
        "outputId": "6fbb53c6-e9af-44df-e33e-7ff63e92fe44"
      },
      "source": [
        "a = np.array([[6,3,9,1],[6,7,2,9]])\n",
        "print(a)\n",
        "\n",
        "b = np.array([[0,5,6,7],[2,9,7,3]])\n",
        "print(b)"
      ],
      "execution_count": null,
      "outputs": [
        {
          "output_type": "stream",
          "name": "stdout",
          "text": [
            "[[6 3 9 1]\n",
            " [6 7 2 9]]\n",
            "[[0 5 6 7]\n",
            " [2 9 7 3]]\n"
          ]
        }
      ]
    },
    {
      "cell_type": "code",
      "metadata": {
        "id": "4pAoNKohY6kH",
        "colab": {
          "base_uri": "https://localhost:8080/"
        },
        "outputId": "3c8f525c-79cb-4919-bea8-bec1d85a49e5"
      },
      "source": [
        "a + b"
      ],
      "execution_count": null,
      "outputs": [
        {
          "output_type": "execute_result",
          "data": {
            "text/plain": [
              "array([[ 6,  8, 15,  8],\n",
              "       [ 8, 16,  9, 12]])"
            ]
          },
          "metadata": {},
          "execution_count": 105
        }
      ]
    },
    {
      "cell_type": "code",
      "metadata": {
        "id": "bizDpL0sZGMU",
        "colab": {
          "base_uri": "https://localhost:8080/"
        },
        "outputId": "4d91138d-0fd0-413f-be24-316b758400bd"
      },
      "source": [
        "a - b"
      ],
      "execution_count": null,
      "outputs": [
        {
          "output_type": "execute_result",
          "data": {
            "text/plain": [
              "array([[ 6, -2,  3, -6],\n",
              "       [ 4, -2, -5,  6]])"
            ]
          },
          "metadata": {},
          "execution_count": 106
        }
      ]
    },
    {
      "cell_type": "code",
      "metadata": {
        "id": "yh1_4g3iZHcA",
        "colab": {
          "base_uri": "https://localhost:8080/"
        },
        "outputId": "a93cf608-ced4-4962-ca20-680187287b24"
      },
      "source": [
        "a ** b"
      ],
      "execution_count": null,
      "outputs": [
        {
          "output_type": "execute_result",
          "data": {
            "text/plain": [
              "array([[       1,      243,   531441,        1],\n",
              "       [      36, 40353607,      128,      729]])"
            ]
          },
          "metadata": {},
          "execution_count": 107
        }
      ]
    },
    {
      "cell_type": "code",
      "metadata": {
        "id": "dly58fi0ZJHh",
        "colab": {
          "base_uri": "https://localhost:8080/"
        },
        "outputId": "aaffe71b-1a8e-4007-bfd0-1010c2b32c5c"
      },
      "source": [
        "a > b                                                                           # Element wise compares"
      ],
      "execution_count": null,
      "outputs": [
        {
          "output_type": "execute_result",
          "data": {
            "text/plain": [
              "array([[ True, False,  True, False],\n",
              "       [ True, False, False,  True]])"
            ]
          },
          "metadata": {},
          "execution_count": 108
        }
      ]
    },
    {
      "cell_type": "code",
      "source": [
        "\n",
        "a = np.random.randint(0, 10, (3, 3))\n",
        "b = np.count_nonzero(a)                                                            # Count the numbers that are not equal to zero\n",
        "print(a)                                                                          \n",
        "print(b)\n"
      ],
      "metadata": {
        "colab": {
          "base_uri": "https://localhost:8080/"
        },
        "id": "DfMY-bZQEne-",
        "outputId": "0b1cb235-9d25-4838-eacd-5a8f87aec665"
      },
      "execution_count": null,
      "outputs": [
        {
          "output_type": "stream",
          "name": "stdout",
          "text": [
            "[[4 0 3]\n",
            " [9 3 8]\n",
            " [9 9 3]]\n",
            "8\n"
          ]
        }
      ]
    },
    {
      "cell_type": "code",
      "source": [
        "a = np.random.randint(0, 10, (3, 3))\n",
        "b = any(a>5)\n",
        "print(a)                                                                        # Compare every number in the matrix with greater than 5 or not\n",
        "print(b)"
      ],
      "metadata": {
        "colab": {
          "base_uri": "https://localhost:8080/"
        },
        "id": "f_Zixvo8FgZv",
        "outputId": "42b6b2ff-c8b3-4a19-e2d8-36432f451d86"
      },
      "execution_count": null,
      "outputs": [
        {
          "output_type": "stream",
          "name": "stdout",
          "text": [
            "[[8 3 6]\n",
            " [5 2 0]\n",
            " [4 0 9]]\n",
            "True\n"
          ]
        }
      ]
    },
    {
      "cell_type": "code",
      "metadata": {
        "id": "5m9QtJCQG9qL",
        "colab": {
          "base_uri": "https://localhost:8080/"
        },
        "outputId": "4ccc8e13-971f-4d23-bfeb-a13018f4cedd"
      },
      "source": [
        "np.maximum(a,b)                                                                 # Get maximum element from both the arrays"
      ],
      "execution_count": null,
      "outputs": [
        {
          "output_type": "execute_result",
          "data": {
            "text/plain": [
              "array([[8, 3, 6],\n",
              "       [5, 2, 1],\n",
              "       [4, 1, 9]])"
            ]
          },
          "metadata": {},
          "execution_count": 51
        }
      ]
    },
    {
      "cell_type": "markdown",
      "metadata": {
        "id": "lnuJrjVNW75K"
      },
      "source": [
        "##### Statistics"
      ]
    },
    {
      "cell_type": "code",
      "metadata": {
        "id": "iICOiEY8W75K",
        "colab": {
          "base_uri": "https://localhost:8080/"
        },
        "outputId": "44e2c692-fbfb-477b-b71c-7d390a8455c7"
      },
      "source": [
        "a = np.array([[1,2,3],[6,0,4]])\n",
        "print (a)"
      ],
      "execution_count": null,
      "outputs": [
        {
          "output_type": "stream",
          "name": "stdout",
          "text": [
            "[[1 2 3]\n",
            " [6 0 4]]\n"
          ]
        }
      ]
    },
    {
      "cell_type": "code",
      "metadata": {
        "id": "HpaCRf2bW75L",
        "colab": {
          "base_uri": "https://localhost:8080/"
        },
        "outputId": "e661ac59-8f27-4c65-d4fc-f6c0912a6b2c"
      },
      "source": [
        "np.min(a)                                                                       # Minimum in entire Array               "
      ],
      "execution_count": null,
      "outputs": [
        {
          "output_type": "execute_result",
          "data": {
            "text/plain": [
              "0"
            ]
          },
          "metadata": {},
          "execution_count": 115
        }
      ]
    },
    {
      "cell_type": "code",
      "metadata": {
        "id": "5Q0w1Q-zW75L",
        "colab": {
          "base_uri": "https://localhost:8080/"
        },
        "outputId": "149a0788-de39-4421-819a-fd53131833b3"
      },
      "source": [
        "np.max(a)                                                                       # Maximum in entire Array               "
      ],
      "execution_count": null,
      "outputs": [
        {
          "output_type": "execute_result",
          "data": {
            "text/plain": [
              "6"
            ]
          },
          "metadata": {},
          "execution_count": 116
        }
      ]
    },
    {
      "cell_type": "code",
      "metadata": {
        "id": "3WLdojetW75M",
        "colab": {
          "base_uri": "https://localhost:8080/"
        },
        "outputId": "8efff8cf-e487-49ea-de64-8248fc3c6881"
      },
      "source": [
        "np.max(a, axis=0)                                                               # Maximum accross row           "
      ],
      "execution_count": null,
      "outputs": [
        {
          "output_type": "execute_result",
          "data": {
            "text/plain": [
              "array([6, 2, 4])"
            ]
          },
          "metadata": {},
          "execution_count": 124
        }
      ]
    },
    {
      "cell_type": "code",
      "metadata": {
        "id": "MpzEQGs2W75N",
        "colab": {
          "base_uri": "https://localhost:8080/"
        },
        "outputId": "99df8358-f8ae-4ae9-ef98-3465c22d3fc0"
      },
      "source": [
        "np.max(a, axis=1)                                                               # Maximum across column"
      ],
      "execution_count": null,
      "outputs": [
        {
          "output_type": "execute_result",
          "data": {
            "text/plain": [
              "array([3, 6])"
            ]
          },
          "metadata": {},
          "execution_count": 123
        }
      ]
    },
    {
      "cell_type": "code",
      "metadata": {
        "id": "Yano85daW75O",
        "colab": {
          "base_uri": "https://localhost:8080/"
        },
        "outputId": "82cb4da0-49a8-4878-9d92-3e33ab3ed9bb"
      },
      "source": [
        "np.sum(a, axis=0)                                                               # Sum across row         "
      ],
      "execution_count": null,
      "outputs": [
        {
          "output_type": "execute_result",
          "data": {
            "text/plain": [
              "array([7, 2, 7])"
            ]
          },
          "metadata": {},
          "execution_count": 127
        }
      ]
    },
    {
      "cell_type": "code",
      "source": [
        "a = np.random.randint(5,20, size=9).reshape(3,3) \n",
        "m = np.mean(a)                                                                  # Get Mean\n",
        "s = np.std(a)                                                                   # Get Standard deviation                               \n",
        "v = np.var(a)                                                                   # Get Variance                                                  \n",
        "c = np.cov(a)                                                                   # Get Covariance\n",
        "l= np.log(a)                                                                    # Get Logarithm\n",
        "cc=np.corrcoef(a)                                                               # Get correlation coefficient                    \n",
        "print(a)\n",
        "print('-------------------------')\n",
        "print(\"the mean is : \",m)\n",
        "print('-------------------------')\n",
        "print(\"the standard deviation is : \",s)\n",
        "print('-------------------------')\n",
        "print(\"the variance is : \\n\" , v)\n",
        "print('-------------------------')\n",
        "print(\"the covariance is : \\n\", c)\n",
        "print('-------------------------')\n",
        "print(\"the logarithm is : \\n\",l)\n",
        "print('-------------------------')\n",
        "print(\"the correlation coefficient is : \\n\",cc)"
      ],
      "metadata": {
        "colab": {
          "base_uri": "https://localhost:8080/"
        },
        "id": "PfB7plckgclK",
        "outputId": "d7f7d146-e383-4649-f892-84c6110be3a8"
      },
      "execution_count": null,
      "outputs": [
        {
          "output_type": "stream",
          "name": "stdout",
          "text": [
            "[[11  7  9]\n",
            " [11 18 17]\n",
            " [12  8 18]]\n",
            "-------------------------\n",
            "the mean is :  12.333333333333334\n",
            "-------------------------\n",
            "the standard deviation is :  4.055175020198813\n",
            "-------------------------\n",
            "the variance is : \n",
            " 16.444444444444443\n",
            "-------------------------\n",
            "the covariance is : \n",
            " [[ 4.         -7.          4.        ]\n",
            " [-7.         14.33333333 -0.33333333]\n",
            " [ 4.         -0.33333333 25.33333333]]\n",
            "-------------------------\n",
            "the logarithm is : \n",
            " [[2.39789527 1.94591015 2.19722458]\n",
            " [2.39789527 2.89037176 2.83321334]\n",
            " [2.48490665 2.07944154 2.89037176]]\n",
            "-------------------------\n",
            "the correlation coefficient is : \n",
            " [[ 1.         -0.92447345  0.39735971]\n",
            " [-0.92447345  1.         -0.01749279]\n",
            " [ 0.39735971 -0.01749279  1.        ]]\n"
          ]
        }
      ]
    },
    {
      "cell_type": "code",
      "metadata": {
        "colab": {
          "base_uri": "https://localhost:8080/"
        },
        "outputId": "15218941-5511-4df1-c701-bd5317b0b20c",
        "id": "VlhUVaJYl2P0"
      },
      "source": [
        "np.sum(a, axis=1)                                                               # Sum across row         "
      ],
      "execution_count": null,
      "outputs": [
        {
          "output_type": "execute_result",
          "data": {
            "text/plain": [
              "array([ 6, 10])"
            ]
          },
          "metadata": {},
          "execution_count": 128
        }
      ]
    },
    {
      "cell_type": "code",
      "metadata": {
        "id": "BFxIQs5fGLbx",
        "colab": {
          "base_uri": "https://localhost:8080/"
        },
        "outputId": "0558ecaa-563e-42a5-dd28-b3f63b9f8225"
      },
      "source": [
        "np.sqrt(a)                                                                      # Square root"
      ],
      "execution_count": null,
      "outputs": [
        {
          "output_type": "execute_result",
          "data": {
            "text/plain": [
              "array([[1.        , 1.41421356, 1.73205081],\n",
              "       [2.44948974, 0.        , 2.        ]])"
            ]
          },
          "metadata": {},
          "execution_count": 129
        }
      ]
    },
    {
      "cell_type": "code",
      "metadata": {
        "id": "Wha9GRmAGWsi",
        "colab": {
          "base_uri": "https://localhost:8080/"
        },
        "outputId": "0f2f0fca-0a83-4437-f540-117dd3e62836"
      },
      "source": [
        "np.exp(a)                                                                       # Exponent"
      ],
      "execution_count": null,
      "outputs": [
        {
          "output_type": "execute_result",
          "data": {
            "text/plain": [
              "array([[  2.71828183,   7.3890561 ,  20.08553692],\n",
              "       [ 54.59815003,   1.        , 403.42879349]])"
            ]
          },
          "metadata": {},
          "execution_count": 328
        }
      ]
    },
    {
      "cell_type": "code",
      "metadata": {
        "colab": {
          "base_uri": "https://localhost:8080/"
        },
        "id": "aPv86uKc-ukg",
        "outputId": "e3e96b02-37f5-474f-e0d8-f6d4ef81edb1"
      },
      "source": [
        "a > 0"
      ],
      "execution_count": null,
      "outputs": [
        {
          "output_type": "execute_result",
          "data": {
            "text/plain": [
              "array([[ True,  True,  True],\n",
              "       [ True, False,  True]])"
            ]
          },
          "metadata": {},
          "execution_count": 130
        }
      ]
    },
    {
      "cell_type": "code",
      "metadata": {
        "id": "nBkFbmhtM65i",
        "colab": {
          "base_uri": "https://localhost:8080/"
        },
        "outputId": "d2ceaec1-8fed-4498-ccd4-b8af69fa6694"
      },
      "source": [
        "(a>0).sum()                                                                     # Count of elements > 0"
      ],
      "execution_count": null,
      "outputs": [
        {
          "output_type": "execute_result",
          "data": {
            "text/plain": [
              "5"
            ]
          },
          "metadata": {},
          "execution_count": 131
        }
      ]
    },
    {
      "cell_type": "code",
      "metadata": {
        "id": "w3oj-TgwPG03",
        "colab": {
          "base_uri": "https://localhost:8080/"
        },
        "outputId": "1331c9ce-5183-46c3-f119-e7bf38634458"
      },
      "source": [
        "a = np.array([1,2,3,2,1,3,4,2,1,4,5])\n",
        "np.unique(a)                                                                    # returns unique elements from array"
      ],
      "execution_count": null,
      "outputs": [
        {
          "output_type": "execute_result",
          "data": {
            "text/plain": [
              "array([1, 2, 3, 4, 5])"
            ]
          },
          "metadata": {},
          "execution_count": 132
        }
      ]
    },
    {
      "cell_type": "code",
      "metadata": {
        "id": "BPJQ1CZTNy2F",
        "colab": {
          "base_uri": "https://localhost:8080/"
        },
        "outputId": "822cb7e5-22d3-4bd1-9023-4afee61b4997"
      },
      "source": [
        "a = np.array([[1,2,3],[4,0,6]])\n",
        "print (\"Before Sorting\")\n",
        "print (a)\n",
        "\n",
        "print(a.sort())                                                                 # Sorts in place. Content of array will be changed\n",
        "print (\"\\nAfter Sorting contents of a is changed in place\")\n",
        "print(a)"
      ],
      "execution_count": null,
      "outputs": [
        {
          "output_type": "stream",
          "name": "stdout",
          "text": [
            "Before Sorting\n",
            "[[1 2 3]\n",
            " [4 0 6]]\n",
            "None\n",
            "\n",
            "After Sorting contents of a is changed in place\n",
            "[[1 2 3]\n",
            " [0 4 6]]\n"
          ]
        }
      ]
    },
    {
      "cell_type": "code",
      "metadata": {
        "id": "sLNq4bI7OHnj",
        "colab": {
          "base_uri": "https://localhost:8080/"
        },
        "outputId": "7604115e-1804-4b25-c69a-5893d73817f3"
      },
      "source": [
        "a = np.array([[1,2,3],[4,0,6]])\n",
        "print (\"Before Sorting\")\n",
        "print (a)\n",
        "\n",
        "print(np.sort(a))                                                               # Sorts in place. Content of array will NOT be changed\n",
        "\n",
        "print (\"\\nAfter Sorting contents of a is NOT changed in place\")\n",
        "print(a)"
      ],
      "execution_count": null,
      "outputs": [
        {
          "output_type": "stream",
          "name": "stdout",
          "text": [
            "Before Sorting\n",
            "[[1 2 3]\n",
            " [4 0 6]]\n",
            "[[1 2 3]\n",
            " [0 4 6]]\n",
            "\n",
            "After Sorting contents of a is NOT changed in place\n",
            "[[1 2 3]\n",
            " [4 0 6]]\n"
          ]
        }
      ]
    },
    {
      "cell_type": "code",
      "metadata": {
        "id": "7ymLUf_aMKUd",
        "colab": {
          "base_uri": "https://localhost:8080/"
        },
        "outputId": "84607a28-65c8-4449-dc34-51b39444f3ec"
      },
      "source": [
        "a = np.array([[1,2,3], [4,5,6], [7,8,9]])\n",
        "print(a)\n",
        "\n",
        "print(\"\\n cumsum axis 0\")\n",
        "print(a.cumsum(axis = 0))                                                       # Cumulative sum across rows\n",
        "print(\"\\n cumsum axis 1\")\n",
        "print(a.cumsum(axis = 1))                                                       # Cumulative sum across columns"
      ],
      "execution_count": null,
      "outputs": [
        {
          "output_type": "stream",
          "name": "stdout",
          "text": [
            "[[1 2 3]\n",
            " [4 5 6]\n",
            " [7 8 9]]\n",
            "\n",
            " cumsum axis 0\n",
            "[[ 1  2  3]\n",
            " [ 5  7  9]\n",
            " [12 15 18]]\n",
            "\n",
            " cumsum axis 1\n",
            "[[ 1  3  6]\n",
            " [ 4  9 15]\n",
            " [ 7 15 24]]\n"
          ]
        }
      ]
    },
    {
      "cell_type": "code",
      "source": [],
      "metadata": {
        "id": "swbAwb8COE9A"
      },
      "execution_count": null,
      "outputs": []
    },
    {
      "cell_type": "code",
      "metadata": {
        "id": "fjM7rd8IHeaF",
        "colab": {
          "base_uri": "https://localhost:8080/"
        },
        "outputId": "f8066017-1d0e-403e-f8f9-eee9f96f9ef4"
      },
      "source": [
        "a = np.array([1.345,2.156,3.333,4.359,6.258])\n",
        "decNum, wholeNum = np.modf(a)                                                   # Some functions also return multiple array. Returns modulus value\n",
        "print(decNum, wholeNum)"
      ],
      "execution_count": null,
      "outputs": [
        {
          "output_type": "stream",
          "name": "stdout",
          "text": [
            "[0.345 0.156 0.333 0.359 0.258] [1. 2. 3. 4. 6.]\n"
          ]
        }
      ]
    },
    {
      "cell_type": "markdown",
      "metadata": {
        "id": "jJKzS8bsW75S"
      },
      "source": [
        "### Reorganizing Arrays"
      ]
    },
    {
      "cell_type": "code",
      "metadata": {
        "id": "FjAwiSwuW75S",
        "colab": {
          "base_uri": "https://localhost:8080/"
        },
        "outputId": "c8c97fa4-4db6-4c07-8e05-b906dd484141"
      },
      "source": [
        "before = np.array([[1,2,3,4],[5,6,7,8]])                                        # New 2 x 4 Array\n",
        "print ('Before')\n",
        "print(before)\n",
        "print(\"shape is \" + str(np.shape(before)))\n",
        "\n",
        "after = before.reshape((4,2))                                                   # Change 2 x 4 Array to 4 x 2 Array\n",
        "print ('\\nAfter')\n",
        "print(after)\n",
        "print(\"shape is \" + str(np.shape(after)))"
      ],
      "execution_count": null,
      "outputs": [
        {
          "output_type": "stream",
          "name": "stdout",
          "text": [
            "Before\n",
            "[[1 2 3 4]\n",
            " [5 6 7 8]]\n",
            "shape is (2, 4)\n",
            "\n",
            "After\n",
            "[[1 2]\n",
            " [3 4]\n",
            " [5 6]\n",
            " [7 8]]\n",
            "shape is (4, 2)\n"
          ]
        }
      ]
    },
    {
      "cell_type": "code",
      "metadata": {
        "id": "swQoAufwW75T",
        "colab": {
          "base_uri": "https://localhost:8080/"
        },
        "outputId": "5b458330-5c51-4166-d0eb-12ce7d212dfb"
      },
      "source": [
        "before = np.array([[1,2,3,4],[5,6,7,8]])\n",
        "print ('Before')\n",
        "print(before)\n",
        "print(\"shape is \" + str(np.shape(before)))\n",
        "\n",
        "# Below will give you error\n",
        "#after = before.reshape((2,3))                                                   # Can Not Change 2 x 4 Array to 2 x 3 Array\n",
        "#print ('\\nAfter')\n",
        "#print(after)\n",
        "#print(\"shape is \" + str(np.shape(after)))"
      ],
      "execution_count": null,
      "outputs": [
        {
          "output_type": "stream",
          "name": "stdout",
          "text": [
            "Before\n",
            "[[1 2 3 4]\n",
            " [5 6 7 8]]\n",
            "shape is (2, 4)\n"
          ]
        }
      ]
    },
    {
      "cell_type": "code",
      "metadata": {
        "id": "MldcXqk9W75T",
        "colab": {
          "base_uri": "https://localhost:8080/"
        },
        "outputId": "b0fb6c6f-8e61-4580-e584-a68baa75e617"
      },
      "source": [
        "a1 = np.array([1,2,3,4])\n",
        "a2 = np.array([5,6,7,8])\n",
        "\n",
        "np.vstack([a1,a2,a1 + a2])                                                      # Vertical stacking of Arrays"
      ],
      "execution_count": null,
      "outputs": [
        {
          "output_type": "execute_result",
          "data": {
            "text/plain": [
              "array([[ 1,  2,  3,  4],\n",
              "       [ 5,  6,  7,  8],\n",
              "       [ 6,  8, 10, 12]])"
            ]
          },
          "metadata": {},
          "execution_count": 11
        }
      ]
    },
    {
      "cell_type": "code",
      "metadata": {
        "id": "u3snMiKiW75U",
        "colab": {
          "base_uri": "https://localhost:8080/"
        },
        "outputId": "17b6c262-eefe-4984-d00c-e6768339d012"
      },
      "source": [
        "# Horizontal  stack\n",
        "a1 = np.array([1,2,3,4])\n",
        "a2 = np.array([5,6,7,8])\n",
        "\n",
        "np.hstack([a1,a2,a1 + a2])                                                      # Horizontal stacking of Arrays"
      ],
      "execution_count": null,
      "outputs": [
        {
          "output_type": "execute_result",
          "data": {
            "text/plain": [
              "array([ 1,  2,  3,  4,  5,  6,  7,  8,  6,  8, 10, 12])"
            ]
          },
          "metadata": {},
          "execution_count": 12
        }
      ]
    },
    {
      "cell_type": "markdown",
      "metadata": {
        "id": "I3fyjXLJW75V"
      },
      "source": [
        "##### Load Data from File"
      ]
    },
    {
      "cell_type": "code",
      "metadata": {
        "id": "FObZt8QwcWA6",
        "colab": {
          "base_uri": "https://localhost:8080/"
        },
        "outputId": "e9d530b6-d2dc-4201-9e8a-62f0e5d5bee9"
      },
      "source": [
        "from google.colab import drive\n",
        "drive.mount('/content/drive')"
      ],
      "execution_count": null,
      "outputs": [
        {
          "output_type": "stream",
          "name": "stdout",
          "text": [
            "Mounted at /content/drive\n"
          ]
        }
      ]
    },
    {
      "cell_type": "code",
      "metadata": {
        "id": "iCliejVTW75V",
        "colab": {
          "base_uri": "https://localhost:8080/"
        },
        "outputId": "cda9c68a-3a13-4897-fec5-8c93eed45ad6"
      },
      "source": [
        "a = np.genfromtxt('drive/MyDrive/numpydata.txt', delimiter=',')    # Load Data in numpydata.txt\n",
        "print (a)\n",
        "print(a.dtype)                                                                  # For Numpy most cases, data type will be float64\n",
        "\n",
        "a = a.astype('int32')                                                           # type is changed from default float64 to int32\n",
        "print (a)\n",
        "print(a.dtype)"
      ],
      "execution_count": null,
      "outputs": [
        {
          "output_type": "stream",
          "name": "stdout",
          "text": [
            "[ 5.  2.  4.  1.  4.  6.  2.  1.  4.  6.  2. 11. 12. 13. 16. 22. 23. 24.\n",
            "  1.  2. 55.]\n",
            "float64\n",
            "[ 5  2  4  1  4  6  2  1  4  6  2 11 12 13 16 22 23 24  1  2 55]\n",
            "int32\n"
          ]
        }
      ]
    },
    {
      "cell_type": "code",
      "metadata": {
        "id": "CRA_G-X1QGHA"
      },
      "source": [
        "np.save('savedArrayInDisk', a)                                                  # Saved as Uncompressed Raw Binary File. Check in /content"
      ],
      "execution_count": null,
      "outputs": []
    },
    {
      "cell_type": "markdown",
      "metadata": {
        "id": "Fa7fFN4bW75V"
      },
      "source": [
        "##### Conitional Statement"
      ]
    },
    {
      "cell_type": "code",
      "metadata": {
        "id": "kcyiCvyXW75W",
        "colab": {
          "base_uri": "https://localhost:8080/"
        },
        "outputId": "5d07af0f-aade-471c-d376-6b14f721bac3"
      },
      "source": [
        "(a > 11)                                                                        # a > 11 "
      ],
      "execution_count": null,
      "outputs": [
        {
          "output_type": "execute_result",
          "data": {
            "text/plain": [
              "array([False, False, False, False, False, False, False, False, False,\n",
              "       False, False, False,  True,  True,  True,  True,  True,  True,\n",
              "       False, False,  True])"
            ]
          },
          "metadata": {},
          "execution_count": 17
        }
      ]
    },
    {
      "cell_type": "code",
      "metadata": {
        "id": "w3IboXklW75W",
        "colab": {
          "base_uri": "https://localhost:8080/"
        },
        "outputId": "6189f3a1-88ef-4669-bfe7-311287f143b2"
      },
      "source": [
        "((a > 11) & (a < 22))                                                           # Using and (&)"
      ],
      "execution_count": null,
      "outputs": [
        {
          "output_type": "execute_result",
          "data": {
            "text/plain": [
              "array([False, False, False, False, False, False, False, False, False,\n",
              "       False, False, False,  True,  True,  True, False, False, False,\n",
              "       False, False, False])"
            ]
          },
          "metadata": {},
          "execution_count": 18
        }
      ]
    },
    {
      "cell_type": "code",
      "metadata": {
        "id": "74OqMENBW75X",
        "colab": {
          "base_uri": "https://localhost:8080/"
        },
        "outputId": "b803d7f8-eb5d-4465-d534-8c03a94f3ab1"
      },
      "source": [
        "((a > 11) | (a < 22))                                                           # Using or (|)"
      ],
      "execution_count": null,
      "outputs": [
        {
          "output_type": "execute_result",
          "data": {
            "text/plain": [
              "array([ True,  True,  True,  True,  True,  True,  True,  True,  True,\n",
              "        True,  True,  True,  True,  True,  True,  True,  True,  True,\n",
              "        True,  True,  True])"
            ]
          },
          "metadata": {},
          "execution_count": 19
        }
      ]
    },
    {
      "cell_type": "code",
      "metadata": {
        "id": "htkW-se7W75X",
        "colab": {
          "base_uri": "https://localhost:8080/"
        },
        "outputId": "1f2cf28c-8e04-4124-ea51-b5cd836bee25"
      },
      "source": [
        "(~((a > 11) | (a < 22)))                                                        # Using not (~)"
      ],
      "execution_count": null,
      "outputs": [
        {
          "output_type": "execute_result",
          "data": {
            "text/plain": [
              "array([False, False, False, False, False, False, False, False, False,\n",
              "       False, False, False, False, False, False, False, False, False,\n",
              "       False, False, False])"
            ]
          },
          "metadata": {},
          "execution_count": 20
        }
      ]
    },
    {
      "cell_type": "markdown",
      "metadata": {
        "id": "0u3Lx0cn37QV"
      },
      "source": [
        "##### Boolean Indexing"
      ]
    },
    {
      "cell_type": "code",
      "metadata": {
        "id": "t8WgGyvL3_fw",
        "colab": {
          "base_uri": "https://localhost:8080/"
        },
        "outputId": "82c4e82a-0075-49f2-9a3f-1b7b60daa11d"
      },
      "source": [
        "names = np.array([\"person A\", \"person B\" ,\"person C\" ,\"person D\" ,\"person E\"])\n",
        "marks = np.random.randint(0,100, size=(5,7))         \n",
        "\n",
        "print(names)\n",
        "print(marks)\n",
        "\n",
        "print('\\n person C')\n",
        "print(names == 'person C')\n",
        "\n",
        "print('\\n person C Marks')\n",
        "print(marks[names == 'person C'])\n",
        "\n",
        "print('\\n person C Marks in last subject')\n",
        "print(marks[names == 'person C', -1])\n",
        "\n",
        "print('\\n Other than person C Marks')\n",
        "cond = names == 'person C'\n",
        "print(marks[~cond])\n",
        "\n",
        "print('\\n Replaced >35 and <40 Marks with 40')\n",
        "cond = (marks > 35) &  (marks < 40)\n",
        "print(cond)\n",
        "marks[cond] = 40\n",
        "print(marks)\n"
      ],
      "execution_count": null,
      "outputs": [
        {
          "output_type": "stream",
          "name": "stdout",
          "text": [
            "['person A' 'person B' 'person C' 'person D' 'person E']\n",
            "[[78 87 94 71 89 57 37]\n",
            " [21 24  3 70 76 29 32]\n",
            " [33 55 71 57 36 56 35]\n",
            " [88 47 25  3 51 14 46]\n",
            " [63 22 66  9 60 24 55]]\n",
            "\n",
            " person C\n",
            "[False False  True False False]\n",
            "\n",
            " person C Marks\n",
            "[[33 55 71 57 36 56 35]]\n",
            "\n",
            " person C Marks in last subject\n",
            "[35]\n",
            "\n",
            " Other than person C Marks\n",
            "[[78 87 94 71 89 57 37]\n",
            " [21 24  3 70 76 29 32]\n",
            " [88 47 25  3 51 14 46]\n",
            " [63 22 66  9 60 24 55]]\n",
            "\n",
            " Replaced >35 and <40 Marks with 40\n",
            "[[False False False False False False  True]\n",
            " [False False False False False False False]\n",
            " [False False False False  True False False]\n",
            " [False False False False False False False]\n",
            " [False False False False False False False]]\n",
            "[[78 87 94 71 89 57 40]\n",
            " [21 24  3 70 76 29 32]\n",
            " [33 55 71 57 40 56 35]\n",
            " [88 47 25  3 51 14 46]\n",
            " [63 22 66  9 60 24 55]]\n"
          ]
        }
      ]
    },
    {
      "cell_type": "markdown",
      "metadata": {
        "id": "sTFipTbYKs_R"
      },
      "source": [
        "##### Conditional Logic"
      ]
    },
    {
      "cell_type": "code",
      "metadata": {
        "id": "VmeJJGh-E4i6",
        "colab": {
          "base_uri": "https://localhost:8080/"
        },
        "outputId": "c5c95472-036e-422e-e0e7-ce6a1b4dc3b8"
      },
      "source": [
        "a = np.array([2,9,6,7,1,5])\n",
        "b = np.array([5,9,3,4,8,6])\n",
        "\n",
        "cond = np.array([True, True, False, False, False, True])      \n",
        "\n",
        "np.where(cond,b,a)                                                              # Picks a or b element depending on condition True or False"
      ],
      "execution_count": null,
      "outputs": [
        {
          "output_type": "execute_result",
          "data": {
            "text/plain": [
              "array([5, 9, 6, 7, 1, 6])"
            ]
          },
          "metadata": {},
          "execution_count": 39
        }
      ]
    },
    {
      "cell_type": "code",
      "metadata": {
        "id": "BMp4GZsHLVsm",
        "colab": {
          "base_uri": "https://localhost:8080/"
        },
        "outputId": "a0bcda49-c393-4e39-b333-8625014dd12f"
      },
      "source": [
        "a = np.array([2,9,6,7,1,5])\n",
        "\n",
        "np.where(a<3,a,3)                                                               # Replace > 3 by 3"
      ],
      "execution_count": null,
      "outputs": [
        {
          "output_type": "execute_result",
          "data": {
            "text/plain": [
              "array([3, 9, 6, 7, 3, 5])"
            ]
          },
          "metadata": {},
          "execution_count": 46
        }
      ]
    },
    {
      "cell_type": "code",
      "source": [
        "a =np.arange(15)\n",
        "b = np.add.reduce(a)                                                            # Add all the elements of the matrix\n",
        "print(a)\n",
        "print(b)"
      ],
      "metadata": {
        "colab": {
          "base_uri": "https://localhost:8080/"
        },
        "id": "kz4Y93fn3v07",
        "outputId": "a980fad8-5d84-4766-be7b-239a7f675c94"
      },
      "execution_count": null,
      "outputs": [
        {
          "output_type": "stream",
          "name": "stdout",
          "text": [
            "[ 0  1  2  3  4  5  6  7  8  9 10 11 12 13 14]\n",
            "105\n"
          ]
        }
      ]
    },
    {
      "cell_type": "code",
      "source": [
        "a =np.arange(2,8)\n",
        "b = np.multiply.reduce(a)                                                       # Multiply all the elements of the Matrix\n",
        "print(a)\n",
        "print(b)"
      ],
      "metadata": {
        "id": "7k5Au5gM4exs"
      },
      "execution_count": null,
      "outputs": []
    },
    {
      "cell_type": "markdown",
      "source": [
        "# Polynomials"
      ],
      "metadata": {
        "id": "uKgJspCvr48r"
      }
    },
    {
      "cell_type": "code",
      "source": [
        "Polynomial = np.polynomial.Polynomial\n",
        "X= np.array([0,20,40,60,80,100,120,140,160,180]) # X represents the equation coefficients \n",
        "Y= np.array([10,9,8,7,6,5,4,3,2,1])              # Y represents the equation results  \n",
        "points,stats = Polynomial.fit(X,Y,1,full=True)# Get the best fit line that represents the equation of X and Y\n",
        "print(points)                 # Points represents the slope and the cut of part of vetical axis\n"
      ],
      "metadata": {
        "colab": {
          "base_uri": "https://localhost:8080/"
        },
        "id": "Xj2nyuKatDOo",
        "outputId": "0e073d53-4e45-44ac-e793-b6ecb314cbcf"
      },
      "execution_count": 9,
      "outputs": [
        {
          "output_type": "stream",
          "name": "stdout",
          "text": [
            "5.500000000000001 - 4.500000000000003·x¹\n"
          ]
        }
      ]
    },
    {
      "cell_type": "code",
      "source": [
        "a = np.poly1d((-7))                                   # Construct an equation of zero degree                                                      \n",
        "b = np.poly1d((-7,2))                                 # Construct an equation of first degree\n",
        "c = np.poly1d((-7,2,1))                               # Construct an equation of second degree\n",
        "d = np.poly1d((-7,2,1,3))                             # Construct an equation of third degree                                   \n",
        "e = np.poly1d((-7,2,1,3,6))                           # Construct an equation of fifth degree\n",
        "print(a)\n",
        "print('-------------------------')\n",
        "print(b)\n",
        "print('-------------------------')\n",
        "print(c)\n",
        "print('-------------------------')\n",
        "print(d)\n",
        "print('-------------------------')\n",
        "print(e)\n"
      ],
      "metadata": {
        "colab": {
          "base_uri": "https://localhost:8080/"
        },
        "id": "U_ZO3L_DyIoO",
        "outputId": "d6d2cbe2-ef25-4c6b-a044-6f57dde14979"
      },
      "execution_count": 12,
      "outputs": [
        {
          "output_type": "stream",
          "name": "stdout",
          "text": [
            " \n",
            "-7\n",
            "-------------------------\n",
            " \n",
            "-7 x + 2\n",
            "-------------------------\n",
            "    2\n",
            "-7 x + 2 x + 1\n",
            "-------------------------\n",
            "    3     2\n",
            "-7 x + 2 x + 1 x + 3\n",
            "-------------------------\n",
            "    4     3     2\n",
            "-7 x + 2 x + 1 x + 3 x + 6\n"
          ]
        }
      ]
    },
    {
      "cell_type": "code",
      "source": [
        "a=np.poly1d((-7,2,1,3,6))      # Construct an Equation of fourth degree\n",
        "b=a(5)                               \n",
        "c=a(0)                         # Substitution in the equation with some numbers\n",
        "d=a(-15)\n",
        "print(a)\n",
        "print('-------------------------------')\n",
        "print(b)\n",
        "print('-------------------------------')\n",
        "print(c)\n",
        "print('-------------------------------')\n",
        "print(d)\n",
        "\n"
      ],
      "metadata": {
        "colab": {
          "base_uri": "https://localhost:8080/"
        },
        "id": "M78P3k6d095z",
        "outputId": "350de19a-4b11-4eea-907e-3c13a7ee10fa"
      },
      "execution_count": 15,
      "outputs": [
        {
          "output_type": "stream",
          "name": "stdout",
          "text": [
            "    4     3     2\n",
            "-7 x + 2 x + 1 x + 3 x + 6\n",
            "-------------------------------\n",
            "-4079\n",
            "-------------------------------\n",
            "6\n",
            "-------------------------------\n",
            "-360939\n"
          ]
        }
      ]
    },
    {
      "cell_type": "code",
      "source": [
        "a =np.polyder(np.poly1d((1,2,3)))       # derivation for one time to second degree equation\n",
        "b =np.polyder(np.poly1d((1,2,3)),2)     # derivation for two times to second degree equation\n",
        "c =np.polyder(np.poly1d((1,2,3)),3)     # derivation for three times to second degree equation\n",
        "d =np.polyder(np.poly1d((1,2,3,5,12)))  # derivation for one time to fourth degree equation\n",
        "e =np.polyder(np.poly1d((1,2,3,5,12)),3)# derivation for three times to fourth degree equation\n",
        "print(a)\n",
        "print('-------------------------')\n",
        "print(b)\n",
        "print('-------------------------')\n",
        "print(c)\n",
        "print('-------------------------')\n",
        "print(d)\n",
        "print('-------------------------')\n",
        "print(e)\n"
      ],
      "metadata": {
        "colab": {
          "base_uri": "https://localhost:8080/"
        },
        "id": "fbuz-d-o47jW",
        "outputId": "2431d825-33c6-44b7-88ca-ca3f5f7c1702"
      },
      "execution_count": 16,
      "outputs": [
        {
          "output_type": "stream",
          "name": "stdout",
          "text": [
            " \n",
            "2 x + 2\n",
            "-------------------------\n",
            " \n",
            "2\n",
            "-------------------------\n",
            " \n",
            "0\n",
            "-------------------------\n",
            "   3     2\n",
            "4 x + 6 x + 6 x + 5\n",
            "-------------------------\n",
            " \n",
            "24 x + 12\n"
          ]
        }
      ]
    },
    {
      "cell_type": "code",
      "source": [
        "# Substitution in the previous derived equations with some numbers\n",
        "print(a(2))\n",
        "print('-------------------------------')\n",
        "print(b(0))   \n",
        "print('-------------------------------') \n",
        "print(c(3))\n",
        "print('-------------------------------')\n",
        "print(d(-1))\n",
        "print('-------------------------------')\n",
        "print(e(5))\n"
      ],
      "metadata": {
        "colab": {
          "base_uri": "https://localhost:8080/"
        },
        "id": "jhLJ5ai68QZF",
        "outputId": "88f0c309-60af-4378-a05d-69f80688b00a"
      },
      "execution_count": 17,
      "outputs": [
        {
          "output_type": "stream",
          "name": "stdout",
          "text": [
            "6\n",
            "-------------------------------\n",
            "2\n",
            "-------------------------------\n",
            "0\n",
            "-------------------------------\n",
            "1\n",
            "-------------------------------\n",
            "132\n"
          ]
        }
      ]
    },
    {
      "cell_type": "code",
      "source": [
        "a =np.polyint(np.poly1d((1,2,3)))\n",
        "b =np.polyint(np.poly1d((1,2,3)),2)\n",
        "c =np.polyint(np.poly1d((1,2,3)),3)\n",
        "d =np.polyint(np.poly1d((1,2,3,5,12)))\n",
        "e =np.polyint(np.poly1d((1,2,3,5,12)),3)\n",
        "print(a(2))\n",
        "print('-------------------------')\n",
        "print(b(0))\n",
        "print('-------------------------')\n",
        "print(c(3))\n",
        "print('-------------------------')\n",
        "print(d(-1))\n",
        "print('-------------------------')\n",
        "print(e(5))"
      ],
      "metadata": {
        "colab": {
          "base_uri": "https://localhost:8080/"
        },
        "id": "i81iDplm9dWY",
        "outputId": "a55f3f92-9c84-4ab4-ace3-13329cd5ea55"
      },
      "execution_count": 18,
      "outputs": [
        {
          "output_type": "stream",
          "name": "stdout",
          "text": [
            "12.666666666666666\n",
            "-------------------------\n",
            "0.0\n",
            "-------------------------\n",
            "24.300000000000004\n",
            "-------------------------\n",
            "-10.2\n",
            "-------------------------\n",
            "1168.8988095238094\n"
          ]
        }
      ]
    },
    {
      "cell_type": "code",
      "source": [
        "a =np.polyint(np.poly1d((1,2,3)))       # Integration for one time to second degree equation\n",
        "b =np.polyint(np.poly1d((1,2,3)),2)     # Integration for two times to second degree equation\n",
        "c =np.polyint(np.poly1d((1,2,3)),3)     # Integration for three times to second degree equation\n",
        "d =np.polyint(np.poly1d((1,2,3,5,12)))  # Integration for one time to fourth degree equation\n",
        "e =np.polyint(np.poly1d((1,2,3,5,12)),3)# Integration for three times to fourth degree equation\n",
        "print(a)\n",
        "print('-------------------------')\n",
        "print(b)\n",
        "print('-------------------------')\n",
        "print(c)\n",
        "print('-------------------------')\n",
        "print(d)\n",
        "print('-------------------------')\n",
        "print(e)\n"
      ],
      "metadata": {
        "colab": {
          "base_uri": "https://localhost:8080/"
        },
        "outputId": "7076c896-3b3d-4cf9-fb11-82d5a0f9d653",
        "id": "oj-QPpSH-nSX"
      },
      "execution_count": 19,
      "outputs": [
        {
          "output_type": "stream",
          "name": "stdout",
          "text": [
            "        3     2\n",
            "0.3333 x + 1 x + 3 x\n",
            "-------------------------\n",
            "         4          3       2\n",
            "0.08333 x + 0.3333 x + 1.5 x\n",
            "-------------------------\n",
            "         5           4       3\n",
            "0.01667 x + 0.08333 x + 0.5 x\n",
            "-------------------------\n",
            "     5       4     3       2\n",
            "0.2 x + 0.5 x + 1 x + 2.5 x + 12 x\n",
            "-------------------------\n",
            "          7           6        5          4     3\n",
            "0.004762 x + 0.01667 x + 0.05 x + 0.2083 x + 2 x\n"
          ]
        }
      ]
    },
    {
      "cell_type": "code",
      "source": [],
      "metadata": {
        "id": "3PdBcpvN_SVN"
      },
      "execution_count": null,
      "outputs": []
    },
    {
      "cell_type": "code",
      "source": [
        "# Substitution in the previous integrated equations with some numbers\n",
        "print(a(2))\n",
        "print('-------------------------------')\n",
        "print(b(0))   \n",
        "print('-------------------------------') \n",
        "print(c(3))\n",
        "print('-------------------------------')\n",
        "print(d(-1))\n",
        "print('-------------------------------')\n",
        "print(e(5))\n"
      ],
      "metadata": {
        "colab": {
          "base_uri": "https://localhost:8080/"
        },
        "outputId": "718c3cb2-cb47-4a53-b74a-c693e8f485ed",
        "id": "Y2EyRGX4_Txm"
      },
      "execution_count": 20,
      "outputs": [
        {
          "output_type": "stream",
          "name": "stdout",
          "text": [
            "12.666666666666666\n",
            "-------------------------------\n",
            "0.0\n",
            "-------------------------------\n",
            "24.300000000000004\n",
            "-------------------------------\n",
            "-10.2\n",
            "-------------------------------\n",
            "1168.8988095238094\n"
          ]
        }
      ]
    },
    {
      "cell_type": "code",
      "source": [
        "# Get the Solutions of the radical equations\n",
        "a = np.roots(np.poly1d((1,2)))\n",
        "b = np.roots(np.poly1d((1,2,3)))      \n",
        "c = np.roots(np.poly1d((1,2,3,5)))\n",
        "d = np.roots(np.poly1d((1,2,3,5,12)))\n",
        "e = np.roots(np.poly1d((1,2,3,5,12,22)))\n",
        "print(a)\n",
        "print('-------------------------')\n",
        "print(b)\n",
        "print('-------------------------')\n",
        "print(c)\n",
        "print('-------------------------')\n",
        "print(d)\n",
        "print('-------------------------')\n",
        "print(e)\n",
        "\n",
        "\n"
      ],
      "metadata": {
        "colab": {
          "base_uri": "https://localhost:8080/"
        },
        "id": "hkVWuvjl_91E",
        "outputId": "fd4c1d1d-8e8d-4664-cba4-ed0454bb78ba"
      },
      "execution_count": 23,
      "outputs": [
        {
          "output_type": "stream",
          "name": "stdout",
          "text": [
            "[-2.]\n",
            "-------------------------\n",
            "[-1.+1.41421356j -1.-1.41421356j]\n",
            "-------------------------\n",
            "[-1.84373428+0.j         -0.07813286+1.64492638j -0.07813286-1.64492638j]\n",
            "-------------------------\n",
            "[-1.61635728+1.15083694j -1.61635728-1.15083694j  0.61635728+1.63342631j\n",
            "  0.61635728-1.63342631j]\n",
            "-------------------------\n",
            "[ 0.98732723+1.53502015j  0.98732723-1.53502015j -1.06743101+1.56536107j\n",
            " -1.06743101-1.56536107j -1.83979245+0.j        ]\n"
          ]
        }
      ]
    }
  ]
}